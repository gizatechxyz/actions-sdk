{
 "cells": [
  {
   "cell_type": "markdown",
   "metadata": {},
   "source": [
    "# Build a Verifiable Neural Network with Giza Actions"
   ]
  },
  {
   "cell_type": "markdown",
   "metadata": {},
   "source": [
    "Giza Actions provides developers with the tools to easily create and expand Verifiable Machine Learning solutions, transforming their Python scripts and ML models into robust, repeatable workflows. Models developed using the Action SDK possess a verifiable property, enabling you to encapsulate your model within a Zero-Knowledge cryptographic layer, thereby ensuring the integrity of the inference.\n",
    "\n",
    "In this tutorial, we will explore the process of building your first Neural Network using MNIST dataset, [Pytorch](https://pytorch.org/), and Giza Action SDK and demonstrating its verifiability."
   ]
  },
  {
   "cell_type": "markdown",
   "metadata": {},
   "source": [
    "# What is MNIST dataset?"
   ]
  },
  {
   "cell_type": "markdown",
   "metadata": {},
   "source": [
    "The MNIST dataset is an extensive collection of handwritten digits, very popular in the field of image processing. Often, it's used as a reference point for machine learning algorithms. This dataset conveniently comes already partitioned into training and testing sets, a feature we'll delve into later in this tutorial.\n",
    "\n",
    "The MNIST database comprises a collection of 70,000 images of handwritten digits, ranging from 0 to 9. Each image measures 28 x 28 pixels. For the purpose of this tutorial, we will resize image to 14 x 14 pixels.\n",
    "\n",
    "![MNIST Dataset illustration](./imgs/mnist_dataset_illustration.png)"
   ]
  },
  {
   "cell_type": "markdown",
   "metadata": {},
   "source": [
    "# Login to Giza and create a Workspace"
   ]
  },
  {
   "cell_type": "markdown",
   "metadata": {},
   "source": [
    "Before we begin, it's important to note that since we will be using Giza tools, you need to log in to the Giza platform. To do this, we recommend following these steps to install the Giza CLI, create a user, and generate API keys:\n",
    "\n",
    "```bash\n",
    "$ pipx install giza-cli\n",
    "$ giza users create\n",
    "$ giza users login\n",
    "$ giza users create-api-key\n",
    "```\n",
    "\n",
    "For more detailed information about `login`, please refer to the [Giza-CLI documentation](https://cli.gizatech.xyz/welcome/readme)."
   ]
  },
  {
   "cell_type": "markdown",
   "metadata": {},
   "source": [
    "If you haven't already created a workspace associated with your user, you'll need to do so. Workspaces in our platform are a crucial component designed to enhance user interaction with Giza Actions. These workspaces provide a user-friendly interface (UI) for managing and tracking runs, tasks, and metadata associated with action executions.\n",
    "\n",
    "Please note that the workspace creation process can take up to 10 minutes as isolated resources are set up for each respective workspace. You can create a workspace using the following command:\n",
    "\n",
    "```bash\n",
    "giza workspaces create\n",
    "```\n",
    "\n",
    "If you've previously created a workspace with your account, you can retrieve your workspace URL as follows:\n",
    "\n",
    "```bash\n",
    "giza workspaces get\n",
    "```\n",
    "\n",
    "For more detailed information about `workspaces`, please refer to the [Workspace section of Giza-CLI documentation](https://cli.gizatech.xyz/resources/workspaces)."
   ]
  },
  {
   "cell_type": "markdown",
   "metadata": {},
   "source": [
    "# Define your model"
   ]
  },
  {
   "cell_type": "markdown",
   "metadata": {},
   "source": [
    "To begin, we must define the architecture of our model. In this tutorial, we will construct a basic feedforward neural network"
   ]
  },
  {
   "cell_type": "code",
   "execution_count": 1,
   "metadata": {},
   "outputs": [],
   "source": [
    "import torch\n",
    "import torch.nn as nn\n",
    "import torch.optim as optim\n",
    "import torchvision\n",
    "import numpy as np\n",
    "import logging\n",
    "from scipy.ndimage import zoom\n",
    "from giza_actions.action import action, Action\n",
    "from giza_actions.task import task\n",
    "from torch.utils.data import DataLoader, TensorDataset\n",
    "\n",
    "device = torch.device('cuda' if torch.cuda.is_available() else 'cpu')"
   ]
  },
  {
   "cell_type": "code",
   "execution_count": 3,
   "metadata": {},
   "outputs": [],
   "source": [
    "input_size = 196  # 14x14\n",
    "hidden_size = 10 \n",
    "num_classes = 10\n",
    "num_epochs = 10\n",
    "batch_size = 256\n",
    "learning_rate = 0.001\n",
    "\n",
    "class NeuralNet(nn.Module):\n",
    "    def __init__(self, input_size, hidden_size, num_classes):\n",
    "        super(NeuralNet, self).__init__()\n",
    "        self.input_size = input_size\n",
    "        self.l1 = nn.Linear(input_size, hidden_size) \n",
    "        self.relu = nn.ReLU()\n",
    "        self.l2 = nn.Linear(hidden_size, num_classes) \n",
    "\n",
    "    def forward(self, x):\n",
    "        out = self.l1(x)\n",
    "        out = self.relu(out)\n",
    "        out = self.l2(out)\n",
    "        return out"
   ]
  },
  {
   "cell_type": "markdown",
   "metadata": {},
   "source": [
    "# Prepare your Tasks"
   ]
  },
  {
   "cell_type": "markdown",
   "metadata": {},
   "source": [
    "In the Giza Action SDK, a Task serves as a functional representation of a specific work segment within a Giza Actions workflow. Tasks offer a means to encapsulate portions of your workflow logic in traceable and reusable units across actions. Essentially, a Giza Actions task can accomplish nearly anything a typical Python function can. The unique aspect of tasks is their ability to access information about upstream dependencies and the status of these dependencies before starting. This capability enables tasks, for instance, to wait for the completion of another task before starting. Moreover, tasks benefit from Giza Actions' automated logging, which captures comprehensive details of each task run, including its duration, tags, and final state.\n",
    "\n",
    "This is how we will encapsulate the methods we build using the `@task` decorator."
   ]
  },
  {
   "cell_type": "markdown",
   "metadata": {},
   "source": [
    "### Prepare datasets and create loaders\n",
    "We need to download datasets and create loarders for both training and testing purposes."
   ]
  },
  {
   "cell_type": "code",
   "execution_count": 4,
   "metadata": {},
   "outputs": [],
   "source": [
    "def resize_images(images):\n",
    "    return np.array([zoom(image[0], (0.5, 0.5)) for image in images])\n",
    "\n",
    "@task(name=f'Prepare Datasets')\n",
    "def prepare_datasets():\n",
    "    print(\"Prepare dataset...\")\n",
    "    train_dataset = torchvision.datasets.MNIST(root='./data', train=True, download=True)\n",
    "    test_dataset = torchvision.datasets.MNIST(root='./data', train=False)\n",
    "\n",
    "    x_train = resize_images(train_dataset)\n",
    "    x_test = resize_images(test_dataset)\n",
    "\n",
    "    x_train = torch.tensor(x_train.reshape(-1, 14*14).astype('float32') / 255)\n",
    "    y_train = torch.tensor([label for _, label in train_dataset], dtype=torch.long)\n",
    "\n",
    "    x_test = torch.tensor(x_test.reshape(-1, 14*14).astype('float32') / 255)\n",
    "    y_test = torch.tensor([label for _, label in test_dataset], dtype=torch.long)\n",
    "\n",
    "    print(\"✅ Datasets prepared successfully\")\n",
    "\n",
    "    return x_train, y_train, x_test, y_test\n"
   ]
  },
  {
   "cell_type": "code",
   "execution_count": 5,
   "metadata": {},
   "outputs": [],
   "source": [
    "@task(name=f'Create Loaders')\n",
    "def create_data_loaders(x_train, y_train, x_test, y_test):\n",
    "    print(\"Create loaders...\")\n",
    "\n",
    "    train_loader = DataLoader(TensorDataset(x_train, y_train), batch_size=batch_size, shuffle=True)\n",
    "    test_loader = DataLoader(TensorDataset(x_test, y_test), batch_size=batch_size, shuffle=False)\n",
    "\n",
    "    print(\"✅ Loaders created!\")\n",
    "\n",
    "    return train_loader, test_loader\n"
   ]
  },
  {
   "cell_type": "markdown",
   "metadata": {},
   "source": [
    "### Train the model\n",
    "\n",
    "We need to define our training method."
   ]
  },
  {
   "cell_type": "code",
   "execution_count": 6,
   "metadata": {},
   "outputs": [],
   "source": [
    "@task(name=f'Train model')\n",
    "def train_model(train_loader):\n",
    "    print(\"Train model...\")\n",
    "\n",
    "    model = NeuralNet(input_size, hidden_size, num_classes).to(device)\n",
    "    criterion = nn.CrossEntropyLoss()\n",
    "    optimizer = optim.Adam(model.parameters(), lr=learning_rate)\n",
    "\n",
    "    for epoch in range(num_epochs):\n",
    "        for i, (images, labels) in enumerate(train_loader):\n",
    "            images = images.to(device).reshape(-1, 14*14)\n",
    "            labels = labels.to(device)\n",
    "\n",
    "            outputs = model(images)\n",
    "            loss = criterion(outputs, labels)\n",
    "\n",
    "            optimizer.zero_grad()\n",
    "            loss.backward()\n",
    "            optimizer.step()\n",
    "\n",
    "            if (i + 1) % 100 == 0:\n",
    "                print(f'Epoch [{epoch + 1}/{num_epochs}], Step [{i + 1}/{len(train_loader)}], Loss: {loss.item():.4f}')\n",
    "\n",
    "    print(\"✅ Model trained successfully\")\n",
    "    return model"
   ]
  },
  {
   "cell_type": "markdown",
   "metadata": {},
   "source": [
    "### Test model\n",
    "\n",
    "We need to define our testing method."
   ]
  },
  {
   "cell_type": "code",
   "execution_count": 7,
   "metadata": {},
   "outputs": [],
   "source": [
    "@task(name=f'Test model')\n",
    "def test_model(model, test_loader):\n",
    "    print(\"Test model...\")\n",
    "    with torch.no_grad():\n",
    "        n_correct = 0\n",
    "        n_samples = 0\n",
    "        for images, labels in test_loader:\n",
    "            images = images.to(device).reshape(-1, 14*14)\n",
    "            labels = labels.to(device)\n",
    "            outputs = model(images)\n",
    "            _, predicted = torch.max(outputs.data, 1)\n",
    "            n_samples += labels.size(0)\n",
    "            n_correct += (predicted == labels).sum().item()\n",
    "\n",
    "        acc = 100.0 * n_correct / n_samples\n",
    "        print(f'Accuracy of the network on the 10000 test images: {acc} %')"
   ]
  },
  {
   "cell_type": "markdown",
   "metadata": {},
   "source": [
    "# Action the tasks\n",
    "\n",
    "Now that we've prepared the taks, we need to execute them. This will be done using the `action` decorator."
   ]
  },
  {
   "cell_type": "markdown",
   "metadata": {},
   "source": [
    "Think of actions as unique types of functions. They are capable of receiving inputs, executing tasks, and producing outputs. Remarkably, transforming any standard function into a Giza Actions action is as simple as appending the `@action` decorator. This transformation alters the function's characteristics, bestowing several advantages:\n",
    "\n",
    "- Each time this function is used, its activity is monitored, with every state change communicated to the API for efficient tracking of the action's execution. \n",
    "  \n",
    "- Input parameters undergo automatic type verification and adaptation to ensure they match the required types. \n",
    "  \n",
    "- In cases of failure, the system is equipped to retry. Time constraints can be imposed to avert excessively prolonged workflows.\n",
    "  \n",
    "- Actions leverage inherent logging capabilities, which record essential details of each action run, including its duration and conclusive state.\n",
    "\n",
    "For more detailed information about `actions`, please refer to the [Actions section](https://actions.gizatech.xyz/welcome/giza-actions-sdk) of Action SDK documentation."
   ]
  },
  {
   "cell_type": "code",
   "execution_count": 8,
   "metadata": {},
   "outputs": [
    {
     "data": {
      "text/html": [
       "<pre style=\"white-space:pre;overflow-x:auto;line-height:normal;font-family:Menlo,'DejaVu Sans Mono',consolas,'Courier New',monospace\">13:32:10.085 | <span style=\"color: #008080; text-decoration-color: #008080\">INFO</span>    | Created flow run<span style=\"color: #800080; text-decoration-color: #800080\"> 'analytic-python'</span> for flow<span style=\"color: #800080; text-decoration-color: #800080; font-weight: bold\"> 'Execution'</span>\n",
       "</pre>\n"
      ],
      "text/plain": [
       "13:32:10.085 | \u001b[36mINFO\u001b[0m    | Created flow run\u001b[35m 'analytic-python'\u001b[0m for flow\u001b[1;35m 'Execution'\u001b[0m\n"
      ]
     },
     "metadata": {},
     "output_type": "display_data"
    },
    {
     "data": {
      "text/html": [
       "<pre style=\"white-space:pre;overflow-x:auto;line-height:normal;font-family:Menlo,'DejaVu Sans Mono',consolas,'Courier New',monospace\">13:32:10.093 | <span style=\"color: #008080; text-decoration-color: #008080\">INFO</span>    | Action run 'analytic-python' - View at <span style=\"color: #0000ff; text-decoration-color: #0000ff\">https://actions-server-raphael-doukhan-dblzzhtf5q-ew.a.run.app/flow-runs/flow-run/90cd0605-a006-449e-a118-a05e9c13d710</span>\n",
       "</pre>\n"
      ],
      "text/plain": [
       "13:32:10.093 | \u001b[36mINFO\u001b[0m    | Action run 'analytic-python' - View at \u001b[94mhttps://actions-server-raphael-doukhan-dblzzhtf5q-ew.a.run.app/flow-runs/flow-run/90cd0605-a006-449e-a118-a05e9c13d710\u001b[0m\n"
      ]
     },
     "metadata": {},
     "output_type": "display_data"
    },
    {
     "data": {
      "text/html": [
       "<pre style=\"white-space:pre;overflow-x:auto;line-height:normal;font-family:Menlo,'DejaVu Sans Mono',consolas,'Courier New',monospace\">13:32:10.587 | <span style=\"color: #008080; text-decoration-color: #008080\">INFO</span>    | Action run 'analytic-python' - Created task run 'Prepare Datasets-0' for task 'Prepare Datasets'\n",
       "</pre>\n"
      ],
      "text/plain": [
       "13:32:10.587 | \u001b[36mINFO\u001b[0m    | Action run 'analytic-python' - Created task run 'Prepare Datasets-0' for task 'Prepare Datasets'\n"
      ]
     },
     "metadata": {},
     "output_type": "display_data"
    },
    {
     "data": {
      "text/html": [
       "<pre style=\"white-space:pre;overflow-x:auto;line-height:normal;font-family:Menlo,'DejaVu Sans Mono',consolas,'Courier New',monospace\">13:32:10.589 | <span style=\"color: #008080; text-decoration-color: #008080\">INFO</span>    | Action run 'analytic-python' - Executing 'Prepare Datasets-0' immediately...\n",
       "</pre>\n"
      ],
      "text/plain": [
       "13:32:10.589 | \u001b[36mINFO\u001b[0m    | Action run 'analytic-python' - Executing 'Prepare Datasets-0' immediately...\n"
      ]
     },
     "metadata": {},
     "output_type": "display_data"
    },
    {
     "data": {
      "text/html": [
       "<pre style=\"white-space:pre;overflow-x:auto;line-height:normal;font-family:Menlo,'DejaVu Sans Mono',consolas,'Courier New',monospace\">13:32:11.350 | <span style=\"color: #008080; text-decoration-color: #008080\">INFO</span>    | Task run 'Prepare Datasets-0' - Prepare dataset...\n",
       "</pre>\n"
      ],
      "text/plain": [
       "13:32:11.350 | \u001b[36mINFO\u001b[0m    | Task run 'Prepare Datasets-0' - Prepare dataset...\n"
      ]
     },
     "metadata": {},
     "output_type": "display_data"
    },
    {
     "data": {
      "text/html": [
       "<pre style=\"white-space:pre;overflow-x:auto;line-height:normal;font-family:Menlo,'DejaVu Sans Mono',consolas,'Courier New',monospace\">13:32:14.699 | <span style=\"color: #008080; text-decoration-color: #008080\">INFO</span>    | Task run 'Prepare Datasets-0' - ✅ Datasets prepared successfully\n",
       "</pre>\n"
      ],
      "text/plain": [
       "13:32:14.699 | \u001b[36mINFO\u001b[0m    | Task run 'Prepare Datasets-0' - ✅ Datasets prepared successfully\n"
      ]
     },
     "metadata": {},
     "output_type": "display_data"
    },
    {
     "data": {
      "text/html": [
       "<pre style=\"white-space:pre;overflow-x:auto;line-height:normal;font-family:Menlo,'DejaVu Sans Mono',consolas,'Courier New',monospace\">13:32:14.921 | <span style=\"color: #008080; text-decoration-color: #008080\">INFO</span>    | Task run 'Prepare Datasets-0' - Finished in state <span style=\"color: #008000; text-decoration-color: #008000\">Completed</span>()\n",
       "</pre>\n"
      ],
      "text/plain": [
       "13:32:14.921 | \u001b[36mINFO\u001b[0m    | Task run 'Prepare Datasets-0' - Finished in state \u001b[32mCompleted\u001b[0m()\n"
      ]
     },
     "metadata": {},
     "output_type": "display_data"
    },
    {
     "data": {
      "text/html": [
       "<pre style=\"white-space:pre;overflow-x:auto;line-height:normal;font-family:Menlo,'DejaVu Sans Mono',consolas,'Courier New',monospace\">13:32:15.076 | <span style=\"color: #008080; text-decoration-color: #008080\">INFO</span>    | Action run 'analytic-python' - Created task run 'Create Loaders-0' for task 'Create Loaders'\n",
       "</pre>\n"
      ],
      "text/plain": [
       "13:32:15.076 | \u001b[36mINFO\u001b[0m    | Action run 'analytic-python' - Created task run 'Create Loaders-0' for task 'Create Loaders'\n"
      ]
     },
     "metadata": {},
     "output_type": "display_data"
    },
    {
     "data": {
      "text/html": [
       "<pre style=\"white-space:pre;overflow-x:auto;line-height:normal;font-family:Menlo,'DejaVu Sans Mono',consolas,'Courier New',monospace\">13:32:15.077 | <span style=\"color: #008080; text-decoration-color: #008080\">INFO</span>    | Action run 'analytic-python' - Executing 'Create Loaders-0' immediately...\n",
       "</pre>\n"
      ],
      "text/plain": [
       "13:32:15.077 | \u001b[36mINFO\u001b[0m    | Action run 'analytic-python' - Executing 'Create Loaders-0' immediately...\n"
      ]
     },
     "metadata": {},
     "output_type": "display_data"
    },
    {
     "data": {
      "text/html": [
       "<pre style=\"white-space:pre;overflow-x:auto;line-height:normal;font-family:Menlo,'DejaVu Sans Mono',consolas,'Courier New',monospace\">13:32:15.373 | <span style=\"color: #008080; text-decoration-color: #008080\">INFO</span>    | Task run 'Create Loaders-0' - Create loaders...\n",
       "</pre>\n"
      ],
      "text/plain": [
       "13:32:15.373 | \u001b[36mINFO\u001b[0m    | Task run 'Create Loaders-0' - Create loaders...\n"
      ]
     },
     "metadata": {},
     "output_type": "display_data"
    },
    {
     "data": {
      "text/html": [
       "<pre style=\"white-space:pre;overflow-x:auto;line-height:normal;font-family:Menlo,'DejaVu Sans Mono',consolas,'Courier New',monospace\">13:32:15.376 | <span style=\"color: #008080; text-decoration-color: #008080\">INFO</span>    | Task run 'Create Loaders-0' - ✅ Loaders created!\n",
       "</pre>\n"
      ],
      "text/plain": [
       "13:32:15.376 | \u001b[36mINFO\u001b[0m    | Task run 'Create Loaders-0' - ✅ Loaders created!\n"
      ]
     },
     "metadata": {},
     "output_type": "display_data"
    },
    {
     "data": {
      "text/html": [
       "<pre style=\"white-space:pre;overflow-x:auto;line-height:normal;font-family:Menlo,'DejaVu Sans Mono',consolas,'Courier New',monospace\">13:32:15.535 | <span style=\"color: #008080; text-decoration-color: #008080\">INFO</span>    | Task run 'Create Loaders-0' - Finished in state <span style=\"color: #008000; text-decoration-color: #008000\">Completed</span>()\n",
       "</pre>\n"
      ],
      "text/plain": [
       "13:32:15.535 | \u001b[36mINFO\u001b[0m    | Task run 'Create Loaders-0' - Finished in state \u001b[32mCompleted\u001b[0m()\n"
      ]
     },
     "metadata": {},
     "output_type": "display_data"
    },
    {
     "data": {
      "text/html": [
       "<pre style=\"white-space:pre;overflow-x:auto;line-height:normal;font-family:Menlo,'DejaVu Sans Mono',consolas,'Courier New',monospace\">13:32:15.662 | <span style=\"color: #008080; text-decoration-color: #008080\">INFO</span>    | Action run 'analytic-python' - Created task run 'Train model-0' for task 'Train model'\n",
       "</pre>\n"
      ],
      "text/plain": [
       "13:32:15.662 | \u001b[36mINFO\u001b[0m    | Action run 'analytic-python' - Created task run 'Train model-0' for task 'Train model'\n"
      ]
     },
     "metadata": {},
     "output_type": "display_data"
    },
    {
     "data": {
      "text/html": [
       "<pre style=\"white-space:pre;overflow-x:auto;line-height:normal;font-family:Menlo,'DejaVu Sans Mono',consolas,'Courier New',monospace\">13:32:15.665 | <span style=\"color: #008080; text-decoration-color: #008080\">INFO</span>    | Action run 'analytic-python' - Executing 'Train model-0' immediately...\n",
       "</pre>\n"
      ],
      "text/plain": [
       "13:32:15.665 | \u001b[36mINFO\u001b[0m    | Action run 'analytic-python' - Executing 'Train model-0' immediately...\n"
      ]
     },
     "metadata": {},
     "output_type": "display_data"
    },
    {
     "data": {
      "text/html": [
       "<pre style=\"white-space:pre;overflow-x:auto;line-height:normal;font-family:Menlo,'DejaVu Sans Mono',consolas,'Courier New',monospace\">13:32:16.000 | <span style=\"color: #008080; text-decoration-color: #008080\">INFO</span>    | Task run 'Train model-0' - Train model...\n",
       "</pre>\n"
      ],
      "text/plain": [
       "13:32:16.000 | \u001b[36mINFO\u001b[0m    | Task run 'Train model-0' - Train model...\n"
      ]
     },
     "metadata": {},
     "output_type": "display_data"
    },
    {
     "data": {
      "text/html": [
       "<pre style=\"white-space:pre;overflow-x:auto;line-height:normal;font-family:Menlo,'DejaVu Sans Mono',consolas,'Courier New',monospace\">13:32:16.148 | <span style=\"color: #008080; text-decoration-color: #008080\">INFO</span>    | Task run 'Train model-0' - Epoch [1/10], Step [100/235], Loss: 1.8331\n",
       "</pre>\n"
      ],
      "text/plain": [
       "13:32:16.148 | \u001b[36mINFO\u001b[0m    | Task run 'Train model-0' - Epoch [1/10], Step [100/235], Loss: 1.8331\n"
      ]
     },
     "metadata": {},
     "output_type": "display_data"
    },
    {
     "data": {
      "text/html": [
       "<pre style=\"white-space:pre;overflow-x:auto;line-height:normal;font-family:Menlo,'DejaVu Sans Mono',consolas,'Courier New',monospace\">13:32:16.249 | <span style=\"color: #008080; text-decoration-color: #008080\">INFO</span>    | Task run 'Train model-0' - Epoch [1/10], Step [200/235], Loss: 1.2023\n",
       "</pre>\n"
      ],
      "text/plain": [
       "13:32:16.249 | \u001b[36mINFO\u001b[0m    | Task run 'Train model-0' - Epoch [1/10], Step [200/235], Loss: 1.2023\n"
      ]
     },
     "metadata": {},
     "output_type": "display_data"
    },
    {
     "data": {
      "text/html": [
       "<pre style=\"white-space:pre;overflow-x:auto;line-height:normal;font-family:Menlo,'DejaVu Sans Mono',consolas,'Courier New',monospace\">13:32:16.379 | <span style=\"color: #008080; text-decoration-color: #008080\">INFO</span>    | Task run 'Train model-0' - Epoch [2/10], Step [100/235], Loss: 0.7310\n",
       "</pre>\n"
      ],
      "text/plain": [
       "13:32:16.379 | \u001b[36mINFO\u001b[0m    | Task run 'Train model-0' - Epoch [2/10], Step [100/235], Loss: 0.7310\n"
      ]
     },
     "metadata": {},
     "output_type": "display_data"
    },
    {
     "data": {
      "text/html": [
       "<pre style=\"white-space:pre;overflow-x:auto;line-height:normal;font-family:Menlo,'DejaVu Sans Mono',consolas,'Courier New',monospace\">13:32:16.475 | <span style=\"color: #008080; text-decoration-color: #008080\">INFO</span>    | Task run 'Train model-0' - Epoch [2/10], Step [200/235], Loss: 0.5814\n",
       "</pre>\n"
      ],
      "text/plain": [
       "13:32:16.475 | \u001b[36mINFO\u001b[0m    | Task run 'Train model-0' - Epoch [2/10], Step [200/235], Loss: 0.5814\n"
      ]
     },
     "metadata": {},
     "output_type": "display_data"
    },
    {
     "data": {
      "text/html": [
       "<pre style=\"white-space:pre;overflow-x:auto;line-height:normal;font-family:Menlo,'DejaVu Sans Mono',consolas,'Courier New',monospace\">13:32:16.605 | <span style=\"color: #008080; text-decoration-color: #008080\">INFO</span>    | Task run 'Train model-0' - Epoch [3/10], Step [100/235], Loss: 0.5005\n",
       "</pre>\n"
      ],
      "text/plain": [
       "13:32:16.605 | \u001b[36mINFO\u001b[0m    | Task run 'Train model-0' - Epoch [3/10], Step [100/235], Loss: 0.5005\n"
      ]
     },
     "metadata": {},
     "output_type": "display_data"
    },
    {
     "data": {
      "text/html": [
       "<pre style=\"white-space:pre;overflow-x:auto;line-height:normal;font-family:Menlo,'DejaVu Sans Mono',consolas,'Courier New',monospace\">13:32:16.699 | <span style=\"color: #008080; text-decoration-color: #008080\">INFO</span>    | Task run 'Train model-0' - Epoch [3/10], Step [200/235], Loss: 0.4724\n",
       "</pre>\n"
      ],
      "text/plain": [
       "13:32:16.699 | \u001b[36mINFO\u001b[0m    | Task run 'Train model-0' - Epoch [3/10], Step [200/235], Loss: 0.4724\n"
      ]
     },
     "metadata": {},
     "output_type": "display_data"
    },
    {
     "data": {
      "text/html": [
       "<pre style=\"white-space:pre;overflow-x:auto;line-height:normal;font-family:Menlo,'DejaVu Sans Mono',consolas,'Courier New',monospace\">13:32:16.829 | <span style=\"color: #008080; text-decoration-color: #008080\">INFO</span>    | Task run 'Train model-0' - Epoch [4/10], Step [100/235], Loss: 0.3806\n",
       "</pre>\n"
      ],
      "text/plain": [
       "13:32:16.829 | \u001b[36mINFO\u001b[0m    | Task run 'Train model-0' - Epoch [4/10], Step [100/235], Loss: 0.3806\n"
      ]
     },
     "metadata": {},
     "output_type": "display_data"
    },
    {
     "data": {
      "text/html": [
       "<pre style=\"white-space:pre;overflow-x:auto;line-height:normal;font-family:Menlo,'DejaVu Sans Mono',consolas,'Courier New',monospace\">13:32:16.925 | <span style=\"color: #008080; text-decoration-color: #008080\">INFO</span>    | Task run 'Train model-0' - Epoch [4/10], Step [200/235], Loss: 0.3426\n",
       "</pre>\n"
      ],
      "text/plain": [
       "13:32:16.925 | \u001b[36mINFO\u001b[0m    | Task run 'Train model-0' - Epoch [4/10], Step [200/235], Loss: 0.3426\n"
      ]
     },
     "metadata": {},
     "output_type": "display_data"
    },
    {
     "data": {
      "text/html": [
       "<pre style=\"white-space:pre;overflow-x:auto;line-height:normal;font-family:Menlo,'DejaVu Sans Mono',consolas,'Courier New',monospace\">13:32:17.054 | <span style=\"color: #008080; text-decoration-color: #008080\">INFO</span>    | Task run 'Train model-0' - Epoch [5/10], Step [100/235], Loss: 0.2829\n",
       "</pre>\n"
      ],
      "text/plain": [
       "13:32:17.054 | \u001b[36mINFO\u001b[0m    | Task run 'Train model-0' - Epoch [5/10], Step [100/235], Loss: 0.2829\n"
      ]
     },
     "metadata": {},
     "output_type": "display_data"
    },
    {
     "data": {
      "text/html": [
       "<pre style=\"white-space:pre;overflow-x:auto;line-height:normal;font-family:Menlo,'DejaVu Sans Mono',consolas,'Courier New',monospace\">13:32:17.150 | <span style=\"color: #008080; text-decoration-color: #008080\">INFO</span>    | Task run 'Train model-0' - Epoch [5/10], Step [200/235], Loss: 0.3104\n",
       "</pre>\n"
      ],
      "text/plain": [
       "13:32:17.150 | \u001b[36mINFO\u001b[0m    | Task run 'Train model-0' - Epoch [5/10], Step [200/235], Loss: 0.3104\n"
      ]
     },
     "metadata": {},
     "output_type": "display_data"
    },
    {
     "data": {
      "text/html": [
       "<pre style=\"white-space:pre;overflow-x:auto;line-height:normal;font-family:Menlo,'DejaVu Sans Mono',consolas,'Courier New',monospace\">13:32:17.278 | <span style=\"color: #008080; text-decoration-color: #008080\">INFO</span>    | Task run 'Train model-0' - Epoch [6/10], Step [100/235], Loss: 0.3393\n",
       "</pre>\n"
      ],
      "text/plain": [
       "13:32:17.278 | \u001b[36mINFO\u001b[0m    | Task run 'Train model-0' - Epoch [6/10], Step [100/235], Loss: 0.3393\n"
      ]
     },
     "metadata": {},
     "output_type": "display_data"
    },
    {
     "data": {
      "text/html": [
       "<pre style=\"white-space:pre;overflow-x:auto;line-height:normal;font-family:Menlo,'DejaVu Sans Mono',consolas,'Courier New',monospace\">13:32:17.375 | <span style=\"color: #008080; text-decoration-color: #008080\">INFO</span>    | Task run 'Train model-0' - Epoch [6/10], Step [200/235], Loss: 0.2847\n",
       "</pre>\n"
      ],
      "text/plain": [
       "13:32:17.375 | \u001b[36mINFO\u001b[0m    | Task run 'Train model-0' - Epoch [6/10], Step [200/235], Loss: 0.2847\n"
      ]
     },
     "metadata": {},
     "output_type": "display_data"
    },
    {
     "data": {
      "text/html": [
       "<pre style=\"white-space:pre;overflow-x:auto;line-height:normal;font-family:Menlo,'DejaVu Sans Mono',consolas,'Courier New',monospace\">13:32:17.506 | <span style=\"color: #008080; text-decoration-color: #008080\">INFO</span>    | Task run 'Train model-0' - Epoch [7/10], Step [100/235], Loss: 0.3399\n",
       "</pre>\n"
      ],
      "text/plain": [
       "13:32:17.506 | \u001b[36mINFO\u001b[0m    | Task run 'Train model-0' - Epoch [7/10], Step [100/235], Loss: 0.3399\n"
      ]
     },
     "metadata": {},
     "output_type": "display_data"
    },
    {
     "data": {
      "text/html": [
       "<pre style=\"white-space:pre;overflow-x:auto;line-height:normal;font-family:Menlo,'DejaVu Sans Mono',consolas,'Courier New',monospace\">13:32:17.602 | <span style=\"color: #008080; text-decoration-color: #008080\">INFO</span>    | Task run 'Train model-0' - Epoch [7/10], Step [200/235], Loss: 0.2392\n",
       "</pre>\n"
      ],
      "text/plain": [
       "13:32:17.602 | \u001b[36mINFO\u001b[0m    | Task run 'Train model-0' - Epoch [7/10], Step [200/235], Loss: 0.2392\n"
      ]
     },
     "metadata": {},
     "output_type": "display_data"
    },
    {
     "data": {
      "text/html": [
       "<pre style=\"white-space:pre;overflow-x:auto;line-height:normal;font-family:Menlo,'DejaVu Sans Mono',consolas,'Courier New',monospace\">13:32:17.731 | <span style=\"color: #008080; text-decoration-color: #008080\">INFO</span>    | Task run 'Train model-0' - Epoch [8/10], Step [100/235], Loss: 0.3694\n",
       "</pre>\n"
      ],
      "text/plain": [
       "13:32:17.731 | \u001b[36mINFO\u001b[0m    | Task run 'Train model-0' - Epoch [8/10], Step [100/235], Loss: 0.3694\n"
      ]
     },
     "metadata": {},
     "output_type": "display_data"
    },
    {
     "data": {
      "text/html": [
       "<pre style=\"white-space:pre;overflow-x:auto;line-height:normal;font-family:Menlo,'DejaVu Sans Mono',consolas,'Courier New',monospace\">13:32:17.826 | <span style=\"color: #008080; text-decoration-color: #008080\">INFO</span>    | Task run 'Train model-0' - Epoch [8/10], Step [200/235], Loss: 0.2688\n",
       "</pre>\n"
      ],
      "text/plain": [
       "13:32:17.826 | \u001b[36mINFO\u001b[0m    | Task run 'Train model-0' - Epoch [8/10], Step [200/235], Loss: 0.2688\n"
      ]
     },
     "metadata": {},
     "output_type": "display_data"
    },
    {
     "data": {
      "text/html": [
       "<pre style=\"white-space:pre;overflow-x:auto;line-height:normal;font-family:Menlo,'DejaVu Sans Mono',consolas,'Courier New',monospace\">13:32:18.025 | <span style=\"color: #008080; text-decoration-color: #008080\">INFO</span>    | Task run 'Train model-0' - Epoch [9/10], Step [100/235], Loss: 0.1915\n",
       "</pre>\n"
      ],
      "text/plain": [
       "13:32:18.025 | \u001b[36mINFO\u001b[0m    | Task run 'Train model-0' - Epoch [9/10], Step [100/235], Loss: 0.1915\n"
      ]
     },
     "metadata": {},
     "output_type": "display_data"
    },
    {
     "data": {
      "text/html": [
       "<pre style=\"white-space:pre;overflow-x:auto;line-height:normal;font-family:Menlo,'DejaVu Sans Mono',consolas,'Courier New',monospace\">13:32:18.122 | <span style=\"color: #008080; text-decoration-color: #008080\">INFO</span>    | Task run 'Train model-0' - Epoch [9/10], Step [200/235], Loss: 0.2370\n",
       "</pre>\n"
      ],
      "text/plain": [
       "13:32:18.122 | \u001b[36mINFO\u001b[0m    | Task run 'Train model-0' - Epoch [9/10], Step [200/235], Loss: 0.2370\n"
      ]
     },
     "metadata": {},
     "output_type": "display_data"
    },
    {
     "data": {
      "text/html": [
       "<pre style=\"white-space:pre;overflow-x:auto;line-height:normal;font-family:Menlo,'DejaVu Sans Mono',consolas,'Courier New',monospace\">13:32:18.252 | <span style=\"color: #008080; text-decoration-color: #008080\">INFO</span>    | Task run 'Train model-0' - Epoch [10/10], Step [100/235], Loss: 0.2531\n",
       "</pre>\n"
      ],
      "text/plain": [
       "13:32:18.252 | \u001b[36mINFO\u001b[0m    | Task run 'Train model-0' - Epoch [10/10], Step [100/235], Loss: 0.2531\n"
      ]
     },
     "metadata": {},
     "output_type": "display_data"
    },
    {
     "data": {
      "text/html": [
       "<pre style=\"white-space:pre;overflow-x:auto;line-height:normal;font-family:Menlo,'DejaVu Sans Mono',consolas,'Courier New',monospace\">13:32:18.349 | <span style=\"color: #008080; text-decoration-color: #008080\">INFO</span>    | Task run 'Train model-0' - Epoch [10/10], Step [200/235], Loss: 0.3103\n",
       "</pre>\n"
      ],
      "text/plain": [
       "13:32:18.349 | \u001b[36mINFO\u001b[0m    | Task run 'Train model-0' - Epoch [10/10], Step [200/235], Loss: 0.3103\n"
      ]
     },
     "metadata": {},
     "output_type": "display_data"
    },
    {
     "data": {
      "text/html": [
       "<pre style=\"white-space:pre;overflow-x:auto;line-height:normal;font-family:Menlo,'DejaVu Sans Mono',consolas,'Courier New',monospace\">13:32:18.384 | <span style=\"color: #008080; text-decoration-color: #008080\">INFO</span>    | Task run 'Train model-0' - ✅ Model trained successfully\n",
       "</pre>\n"
      ],
      "text/plain": [
       "13:32:18.384 | \u001b[36mINFO\u001b[0m    | Task run 'Train model-0' - ✅ Model trained successfully\n"
      ]
     },
     "metadata": {},
     "output_type": "display_data"
    },
    {
     "data": {
      "text/html": [
       "<pre style=\"white-space:pre;overflow-x:auto;line-height:normal;font-family:Menlo,'DejaVu Sans Mono',consolas,'Courier New',monospace\">13:32:18.619 | <span style=\"color: #008080; text-decoration-color: #008080\">INFO</span>    | Task run 'Train model-0' - Finished in state <span style=\"color: #008000; text-decoration-color: #008000\">Completed</span>()\n",
       "</pre>\n"
      ],
      "text/plain": [
       "13:32:18.619 | \u001b[36mINFO\u001b[0m    | Task run 'Train model-0' - Finished in state \u001b[32mCompleted\u001b[0m()\n"
      ]
     },
     "metadata": {},
     "output_type": "display_data"
    },
    {
     "data": {
      "text/html": [
       "<pre style=\"white-space:pre;overflow-x:auto;line-height:normal;font-family:Menlo,'DejaVu Sans Mono',consolas,'Courier New',monospace\">13:32:18.858 | <span style=\"color: #008080; text-decoration-color: #008080\">INFO</span>    | Action run 'analytic-python' - Created task run 'Test model-0' for task 'Test model'\n",
       "</pre>\n"
      ],
      "text/plain": [
       "13:32:18.858 | \u001b[36mINFO\u001b[0m    | Action run 'analytic-python' - Created task run 'Test model-0' for task 'Test model'\n"
      ]
     },
     "metadata": {},
     "output_type": "display_data"
    },
    {
     "data": {
      "text/html": [
       "<pre style=\"white-space:pre;overflow-x:auto;line-height:normal;font-family:Menlo,'DejaVu Sans Mono',consolas,'Courier New',monospace\">13:32:18.861 | <span style=\"color: #008080; text-decoration-color: #008080\">INFO</span>    | Action run 'analytic-python' - Executing 'Test model-0' immediately...\n",
       "</pre>\n"
      ],
      "text/plain": [
       "13:32:18.861 | \u001b[36mINFO\u001b[0m    | Action run 'analytic-python' - Executing 'Test model-0' immediately...\n"
      ]
     },
     "metadata": {},
     "output_type": "display_data"
    },
    {
     "data": {
      "text/html": [
       "<pre style=\"white-space:pre;overflow-x:auto;line-height:normal;font-family:Menlo,'DejaVu Sans Mono',consolas,'Courier New',monospace\">13:32:19.229 | <span style=\"color: #008080; text-decoration-color: #008080\">INFO</span>    | Task run 'Test model-0' - Test model...\n",
       "</pre>\n"
      ],
      "text/plain": [
       "13:32:19.229 | \u001b[36mINFO\u001b[0m    | Task run 'Test model-0' - Test model...\n"
      ]
     },
     "metadata": {},
     "output_type": "display_data"
    },
    {
     "data": {
      "text/html": [
       "<pre style=\"white-space:pre;overflow-x:auto;line-height:normal;font-family:Menlo,'DejaVu Sans Mono',consolas,'Courier New',monospace\">13:32:19.282 | <span style=\"color: #008080; text-decoration-color: #008080\">INFO</span>    | Task run 'Test model-0' - Accuracy of the network on the 10000 test images: 91.65 %\n",
       "</pre>\n"
      ],
      "text/plain": [
       "13:32:19.282 | \u001b[36mINFO\u001b[0m    | Task run 'Test model-0' - Accuracy of the network on the 10000 test images: 91.65 %\n"
      ]
     },
     "metadata": {},
     "output_type": "display_data"
    },
    {
     "data": {
      "text/html": [
       "<pre style=\"white-space:pre;overflow-x:auto;line-height:normal;font-family:Menlo,'DejaVu Sans Mono',consolas,'Courier New',monospace\">13:32:19.486 | <span style=\"color: #008080; text-decoration-color: #008080\">INFO</span>    | Task run 'Test model-0' - Finished in state <span style=\"color: #008000; text-decoration-color: #008000\">Completed</span>()\n",
       "</pre>\n"
      ],
      "text/plain": [
       "13:32:19.486 | \u001b[36mINFO\u001b[0m    | Task run 'Test model-0' - Finished in state \u001b[32mCompleted\u001b[0m()\n"
      ]
     },
     "metadata": {},
     "output_type": "display_data"
    },
    {
     "data": {
      "text/html": [
       "<pre style=\"white-space:pre;overflow-x:auto;line-height:normal;font-family:Menlo,'DejaVu Sans Mono',consolas,'Courier New',monospace\">13:32:19.648 | <span style=\"color: #008080; text-decoration-color: #008080\">INFO</span>    | Action run 'analytic-python' - Finished in state <span style=\"color: #008000; text-decoration-color: #008000\">Completed</span>('All states completed.')\n",
       "</pre>\n"
      ],
      "text/plain": [
       "13:32:19.648 | \u001b[36mINFO\u001b[0m    | Action run 'analytic-python' - Finished in state \u001b[32mCompleted\u001b[0m('All states completed.')\n"
      ]
     },
     "metadata": {},
     "output_type": "display_data"
    },
    {
     "data": {
      "text/plain": [
       "[Completed(message=None, type=COMPLETED, result=UnpersistedResult(type='unpersisted', artifact_type='result', artifact_description='Unpersisted result of type `tuple`')),\n",
       " Completed(message=None, type=COMPLETED, result=UnpersistedResult(type='unpersisted', artifact_type='result', artifact_description='Unpersisted result of type `tuple`')),\n",
       " Completed(message=None, type=COMPLETED, result=UnpersistedResult(type='unpersisted', artifact_type='result', artifact_description='Unpersisted result of type `NeuralNet`')),\n",
       " Completed(message=None, type=COMPLETED, result=UnpersistedResult(type='unpersisted', artifact_type='result', artifact_description='Unpersisted result of type `NoneType`'))]"
      ]
     },
     "execution_count": 8,
     "metadata": {},
     "output_type": "execute_result"
    }
   ],
   "source": [
    "\n",
    "@action(name=f'Execution', log_prints=True )\n",
    "def execution():\n",
    "    x_train, y_train, x_test, y_test = prepare_datasets()\n",
    "    train_loader, test_loader = create_data_loaders(\n",
    "        x_train, y_train, x_test, y_test)\n",
    "    model = train_model(train_loader)\n",
    "    test_model(model, test_loader)\n",
    "\n",
    "\n",
    "execution()"
   ]
  },
  {
   "cell_type": "markdown",
   "metadata": {},
   "source": [
    "When you return to your workspace and refresh it, you will observe your action currently in the execution process.\n",
    "\n",
    "To view all the actions you have run, navigate to the Action Runs section within your workspace. Each action run represents a single occurrence of executing the action.\n",
    "\n",
    "![Action runs](./imgs/action_runs.png)"
   ]
  },
  {
   "cell_type": "markdown",
   "metadata": {},
   "source": [
    "Furthermore, by clicking on a particular action, you can closely monitor its progress. You'll have the ability to view logs, individual tasks, and associated metadata.\n",
    "\n",
    "![Action](./imgs/action.png)\n"
   ]
  },
  {
   "cell_type": "markdown",
   "metadata": {},
   "source": [
    "### Deploy your action"
   ]
  },
  {
   "cell_type": "markdown",
   "metadata": {},
   "source": [
    "Giza Action enables you to deploy workflows, turning them from manual activation into API-managed entities that can be triggered remotely. Once a workflow is deployed, it creates a deployment within your Giza Workspace, which remains active, awaiting action runs associated with that deployment. When a run is detected, it is asynchronously executed in a local subprocess.\n",
    "\n",
    "All your deployments can be found in the 'Deployments' section of your Workspace.\n",
    "\n",
    "![Deployment](./imgs/deployments.png)"
   ]
  },
  {
   "cell_type": "code",
   "execution_count": 9,
   "metadata": {},
   "outputs": [
    {
     "name": "stderr",
     "output_type": "stream",
     "text": [
      "/Users/raphaeldoukhan/Library/Caches/pypoetry/virtualenvs/giza-actions-mYf3m_Lk-py3.11/lib/python3.11/site-packages/prefect/flows.py:338: UserWarning: A flow named 'Execution' and defined at '/Users/raphaeldoukhan/Desktop/Orion-Giza/Tools/actions-sdk/giza_actions/action.py:1' conflicts with another flow. Consider specifying a unique `name` parameter in the flow definition:\n",
      "\n",
      " `@flow(name='my_unique_name', ...)`\n",
      "  warnings.warn(\n",
      "/var/folders/s3/6c0gmns50x36dt6vvfhv6jhc0000gn/T/ipykernel_83695/3391579529.py:12: RuntimeWarning: coroutine 'Action.serve' was never awaited\n",
      "  action_deploy.serve(name=\"pytorch-mnist-deployment\")\n",
      "RuntimeWarning: Enable tracemalloc to get the object allocation traceback\n"
     ]
    }
   ],
   "source": [
    "@action(name=f'Execution', log_prints=True)\n",
    "def execution():\n",
    "    x_train, y_train, x_test, y_test = prepare_datasets()\n",
    "    train_loader, test_loader = create_data_loaders(\n",
    "        x_train, y_train, x_test, y_test)\n",
    "    model = train_model(train_loader)\n",
    "    test_model(model, test_loader)\n",
    "\n",
    "# This can only be executed in a Python script, not in a notebook\n",
    "if __name__ == '__main__':\n",
    "    action_deploy = Action(entrypoint=execution, name=\"pytorch-mnist-action\")\n",
    "    action_deploy.serve(name=\"pytorch-mnist-deployment\")"
   ]
  },
  {
   "cell_type": "markdown",
   "metadata": {},
   "source": [
    "# Run and Prove!"
   ]
  },
  {
   "cell_type": "markdown",
   "metadata": {},
   "source": [
    "Up to this point, we have primarily focused on training and testing our model using PyTorch while monitoring its execution through the Giza platform. However, if you are here, it's likely because you want to harness the capabilities of ZKML (Zero-Knowledge Machine Learning) and have the ability to demonstrate the integrity of your model's inferences.\n",
    "\n",
    "In this section, we will delve into what it means to prove the integrity of inferences, what setup is required to make this possible, and how to verify the proof."
   ]
  },
  {
   "cell_type": "markdown",
   "metadata": {},
   "source": [
    "ZKML leverages validity proofs like SNARKs and STARKs, which enables the verification of the correctness of computational processes. By deploying such proof systems in machine learning applications, we gain the ability to validate the inference of ML models or to confirm that a specific input produced a certain output with a given model.\n",
    "\n",
    "To generate ZK proofs for your model inferences, you must first convert your model into ZK circuits. This conversion process involves leveraging programming languages that specialize in building ZK circuits, such as [Cairo-lang](https://www.cairo-lang.org/). Subsequently, using the Giza-CLI, you can transpile your model from ONNX to Cairo. This process will be covered in the upcoming sections.\n",
    "\n",
    "It's worth mentioning that at present, Orion and Action-SDK exclusively supports Cairo as a ZK backend. However, we are actively working on expanding support for other ZK backends (e.g; EZKL, Noir ...).\n",
    "\n",
    "![Giza Stack](./imgs/giza_stack.png)"
   ]
  },
  {
   "cell_type": "markdown",
   "metadata": {},
   "source": [
    "## Convert to ONNX\n",
    "\n",
    "Before invoking the Giza transpiler to convert your model into Cairo, you must first ensure that your model is converted to ONNX. We will explore this process in the following section.\n",
    "\n",
    "ONNX, short for Open Neural Network Exchange, is an open format for representing and exchanging machine learning models between different frameworks and libraries. It serves as an intermediary format that allows you to move models seamlessly between various platforms and tools, facilitating interoperability and flexibility in the machine learning ecosystem."
   ]
  },
  {
   "cell_type": "code",
   "execution_count": 10,
   "metadata": {},
   "outputs": [
    {
     "data": {
      "text/html": [
       "<pre style=\"white-space:pre;overflow-x:auto;line-height:normal;font-family:Menlo,'DejaVu Sans Mono',consolas,'Courier New',monospace\">13:32:20.668 | <span style=\"color: #008080; text-decoration-color: #008080\">INFO</span>    | Created flow run<span style=\"color: #800080; text-decoration-color: #800080\"> 'magenta-griffin'</span> for flow<span style=\"color: #800080; text-decoration-color: #800080; font-weight: bold\"> 'Action: Convert To ONNX'</span>\n",
       "</pre>\n"
      ],
      "text/plain": [
       "13:32:20.668 | \u001b[36mINFO\u001b[0m    | Created flow run\u001b[35m 'magenta-griffin'\u001b[0m for flow\u001b[1;35m 'Action: Convert To ONNX'\u001b[0m\n"
      ]
     },
     "metadata": {},
     "output_type": "display_data"
    },
    {
     "data": {
      "text/html": [
       "<pre style=\"white-space:pre;overflow-x:auto;line-height:normal;font-family:Menlo,'DejaVu Sans Mono',consolas,'Courier New',monospace\">13:32:20.671 | <span style=\"color: #008080; text-decoration-color: #008080\">INFO</span>    | Action run 'magenta-griffin' - View at <span style=\"color: #0000ff; text-decoration-color: #0000ff\">https://actions-server-raphael-doukhan-dblzzhtf5q-ew.a.run.app/flow-runs/flow-run/7adf7710-5563-4c1d-8557-503257cf387c</span>\n",
       "</pre>\n"
      ],
      "text/plain": [
       "13:32:20.671 | \u001b[36mINFO\u001b[0m    | Action run 'magenta-griffin' - View at \u001b[94mhttps://actions-server-raphael-doukhan-dblzzhtf5q-ew.a.run.app/flow-runs/flow-run/7adf7710-5563-4c1d-8557-503257cf387c\u001b[0m\n"
      ]
     },
     "metadata": {},
     "output_type": "display_data"
    },
    {
     "data": {
      "text/html": [
       "<pre style=\"white-space:pre;overflow-x:auto;line-height:normal;font-family:Menlo,'DejaVu Sans Mono',consolas,'Courier New',monospace\">13:32:21.109 | <span style=\"color: #008080; text-decoration-color: #008080\">INFO</span>    | Action run 'magenta-griffin' - Created task run 'Prepare Datasets-0' for task 'Prepare Datasets'\n",
       "</pre>\n"
      ],
      "text/plain": [
       "13:32:21.109 | \u001b[36mINFO\u001b[0m    | Action run 'magenta-griffin' - Created task run 'Prepare Datasets-0' for task 'Prepare Datasets'\n"
      ]
     },
     "metadata": {},
     "output_type": "display_data"
    },
    {
     "data": {
      "text/html": [
       "<pre style=\"white-space:pre;overflow-x:auto;line-height:normal;font-family:Menlo,'DejaVu Sans Mono',consolas,'Courier New',monospace\">13:32:21.112 | <span style=\"color: #008080; text-decoration-color: #008080\">INFO</span>    | Action run 'magenta-griffin' - Executing 'Prepare Datasets-0' immediately...\n",
       "</pre>\n"
      ],
      "text/plain": [
       "13:32:21.112 | \u001b[36mINFO\u001b[0m    | Action run 'magenta-griffin' - Executing 'Prepare Datasets-0' immediately...\n"
      ]
     },
     "metadata": {},
     "output_type": "display_data"
    },
    {
     "data": {
      "text/html": [
       "<pre style=\"white-space:pre;overflow-x:auto;line-height:normal;font-family:Menlo,'DejaVu Sans Mono',consolas,'Courier New',monospace\">13:32:21.396 | <span style=\"color: #008080; text-decoration-color: #008080\">INFO</span>    | Task run 'Prepare Datasets-0' - Prepare dataset...\n",
       "</pre>\n"
      ],
      "text/plain": [
       "13:32:21.396 | \u001b[36mINFO\u001b[0m    | Task run 'Prepare Datasets-0' - Prepare dataset...\n"
      ]
     },
     "metadata": {},
     "output_type": "display_data"
    },
    {
     "data": {
      "text/html": [
       "<pre style=\"white-space:pre;overflow-x:auto;line-height:normal;font-family:Menlo,'DejaVu Sans Mono',consolas,'Courier New',monospace\">13:32:24.718 | <span style=\"color: #008080; text-decoration-color: #008080\">INFO</span>    | Task run 'Prepare Datasets-0' - ✅ Datasets prepared successfully\n",
       "</pre>\n"
      ],
      "text/plain": [
       "13:32:24.718 | \u001b[36mINFO\u001b[0m    | Task run 'Prepare Datasets-0' - ✅ Datasets prepared successfully\n"
      ]
     },
     "metadata": {},
     "output_type": "display_data"
    },
    {
     "data": {
      "text/html": [
       "<pre style=\"white-space:pre;overflow-x:auto;line-height:normal;font-family:Menlo,'DejaVu Sans Mono',consolas,'Courier New',monospace\">13:32:24.888 | <span style=\"color: #008080; text-decoration-color: #008080\">INFO</span>    | Task run 'Prepare Datasets-0' - Finished in state <span style=\"color: #008000; text-decoration-color: #008000\">Completed</span>()\n",
       "</pre>\n"
      ],
      "text/plain": [
       "13:32:24.888 | \u001b[36mINFO\u001b[0m    | Task run 'Prepare Datasets-0' - Finished in state \u001b[32mCompleted\u001b[0m()\n"
      ]
     },
     "metadata": {},
     "output_type": "display_data"
    },
    {
     "data": {
      "text/html": [
       "<pre style=\"white-space:pre;overflow-x:auto;line-height:normal;font-family:Menlo,'DejaVu Sans Mono',consolas,'Courier New',monospace\">13:32:25.057 | <span style=\"color: #008080; text-decoration-color: #008080\">INFO</span>    | Action run 'magenta-griffin' - Created task run 'Create Loaders-0' for task 'Create Loaders'\n",
       "</pre>\n"
      ],
      "text/plain": [
       "13:32:25.057 | \u001b[36mINFO\u001b[0m    | Action run 'magenta-griffin' - Created task run 'Create Loaders-0' for task 'Create Loaders'\n"
      ]
     },
     "metadata": {},
     "output_type": "display_data"
    },
    {
     "data": {
      "text/html": [
       "<pre style=\"white-space:pre;overflow-x:auto;line-height:normal;font-family:Menlo,'DejaVu Sans Mono',consolas,'Courier New',monospace\">13:32:25.058 | <span style=\"color: #008080; text-decoration-color: #008080\">INFO</span>    | Action run 'magenta-griffin' - Executing 'Create Loaders-0' immediately...\n",
       "</pre>\n"
      ],
      "text/plain": [
       "13:32:25.058 | \u001b[36mINFO\u001b[0m    | Action run 'magenta-griffin' - Executing 'Create Loaders-0' immediately...\n"
      ]
     },
     "metadata": {},
     "output_type": "display_data"
    },
    {
     "data": {
      "text/html": [
       "<pre style=\"white-space:pre;overflow-x:auto;line-height:normal;font-family:Menlo,'DejaVu Sans Mono',consolas,'Courier New',monospace\">13:32:25.622 | <span style=\"color: #008080; text-decoration-color: #008080\">INFO</span>    | Task run 'Create Loaders-0' - Create loaders...\n",
       "</pre>\n"
      ],
      "text/plain": [
       "13:32:25.622 | \u001b[36mINFO\u001b[0m    | Task run 'Create Loaders-0' - Create loaders...\n"
      ]
     },
     "metadata": {},
     "output_type": "display_data"
    },
    {
     "data": {
      "text/html": [
       "<pre style=\"white-space:pre;overflow-x:auto;line-height:normal;font-family:Menlo,'DejaVu Sans Mono',consolas,'Courier New',monospace\">13:32:25.625 | <span style=\"color: #008080; text-decoration-color: #008080\">INFO</span>    | Task run 'Create Loaders-0' - ✅ Loaders created!\n",
       "</pre>\n"
      ],
      "text/plain": [
       "13:32:25.625 | \u001b[36mINFO\u001b[0m    | Task run 'Create Loaders-0' - ✅ Loaders created!\n"
      ]
     },
     "metadata": {},
     "output_type": "display_data"
    },
    {
     "data": {
      "text/html": [
       "<pre style=\"white-space:pre;overflow-x:auto;line-height:normal;font-family:Menlo,'DejaVu Sans Mono',consolas,'Courier New',monospace\">13:32:25.778 | <span style=\"color: #008080; text-decoration-color: #008080\">INFO</span>    | Task run 'Create Loaders-0' - Finished in state <span style=\"color: #008000; text-decoration-color: #008000\">Completed</span>()\n",
       "</pre>\n"
      ],
      "text/plain": [
       "13:32:25.778 | \u001b[36mINFO\u001b[0m    | Task run 'Create Loaders-0' - Finished in state \u001b[32mCompleted\u001b[0m()\n"
      ]
     },
     "metadata": {},
     "output_type": "display_data"
    },
    {
     "data": {
      "text/html": [
       "<pre style=\"white-space:pre;overflow-x:auto;line-height:normal;font-family:Menlo,'DejaVu Sans Mono',consolas,'Courier New',monospace\">13:32:26.039 | <span style=\"color: #008080; text-decoration-color: #008080\">INFO</span>    | Action run 'magenta-griffin' - Created task run 'Train model-0' for task 'Train model'\n",
       "</pre>\n"
      ],
      "text/plain": [
       "13:32:26.039 | \u001b[36mINFO\u001b[0m    | Action run 'magenta-griffin' - Created task run 'Train model-0' for task 'Train model'\n"
      ]
     },
     "metadata": {},
     "output_type": "display_data"
    },
    {
     "data": {
      "text/html": [
       "<pre style=\"white-space:pre;overflow-x:auto;line-height:normal;font-family:Menlo,'DejaVu Sans Mono',consolas,'Courier New',monospace\">13:32:26.042 | <span style=\"color: #008080; text-decoration-color: #008080\">INFO</span>    | Action run 'magenta-griffin' - Executing 'Train model-0' immediately...\n",
       "</pre>\n"
      ],
      "text/plain": [
       "13:32:26.042 | \u001b[36mINFO\u001b[0m    | Action run 'magenta-griffin' - Executing 'Train model-0' immediately...\n"
      ]
     },
     "metadata": {},
     "output_type": "display_data"
    },
    {
     "data": {
      "text/html": [
       "<pre style=\"white-space:pre;overflow-x:auto;line-height:normal;font-family:Menlo,'DejaVu Sans Mono',consolas,'Courier New',monospace\">13:32:26.648 | <span style=\"color: #008080; text-decoration-color: #008080\">INFO</span>    | Task run 'Train model-0' - Train model...\n",
       "</pre>\n"
      ],
      "text/plain": [
       "13:32:26.648 | \u001b[36mINFO\u001b[0m    | Task run 'Train model-0' - Train model...\n"
      ]
     },
     "metadata": {},
     "output_type": "display_data"
    },
    {
     "data": {
      "text/html": [
       "<pre style=\"white-space:pre;overflow-x:auto;line-height:normal;font-family:Menlo,'DejaVu Sans Mono',consolas,'Courier New',monospace\">13:32:26.781 | <span style=\"color: #008080; text-decoration-color: #008080\">INFO</span>    | Task run 'Train model-0' - Epoch [1/10], Step [100/235], Loss: 1.7287\n",
       "</pre>\n"
      ],
      "text/plain": [
       "13:32:26.781 | \u001b[36mINFO\u001b[0m    | Task run 'Train model-0' - Epoch [1/10], Step [100/235], Loss: 1.7287\n"
      ]
     },
     "metadata": {},
     "output_type": "display_data"
    },
    {
     "data": {
      "text/html": [
       "<pre style=\"white-space:pre;overflow-x:auto;line-height:normal;font-family:Menlo,'DejaVu Sans Mono',consolas,'Courier New',monospace\">13:32:26.880 | <span style=\"color: #008080; text-decoration-color: #008080\">INFO</span>    | Task run 'Train model-0' - Epoch [1/10], Step [200/235], Loss: 1.0847\n",
       "</pre>\n"
      ],
      "text/plain": [
       "13:32:26.880 | \u001b[36mINFO\u001b[0m    | Task run 'Train model-0' - Epoch [1/10], Step [200/235], Loss: 1.0847\n"
      ]
     },
     "metadata": {},
     "output_type": "display_data"
    },
    {
     "data": {
      "text/html": [
       "<pre style=\"white-space:pre;overflow-x:auto;line-height:normal;font-family:Menlo,'DejaVu Sans Mono',consolas,'Courier New',monospace\">13:32:27.013 | <span style=\"color: #008080; text-decoration-color: #008080\">INFO</span>    | Task run 'Train model-0' - Epoch [2/10], Step [100/235], Loss: 0.6697\n",
       "</pre>\n"
      ],
      "text/plain": [
       "13:32:27.013 | \u001b[36mINFO\u001b[0m    | Task run 'Train model-0' - Epoch [2/10], Step [100/235], Loss: 0.6697\n"
      ]
     },
     "metadata": {},
     "output_type": "display_data"
    },
    {
     "data": {
      "text/html": [
       "<pre style=\"white-space:pre;overflow-x:auto;line-height:normal;font-family:Menlo,'DejaVu Sans Mono',consolas,'Courier New',monospace\">13:32:27.110 | <span style=\"color: #008080; text-decoration-color: #008080\">INFO</span>    | Task run 'Train model-0' - Epoch [2/10], Step [200/235], Loss: 0.5229\n",
       "</pre>\n"
      ],
      "text/plain": [
       "13:32:27.110 | \u001b[36mINFO\u001b[0m    | Task run 'Train model-0' - Epoch [2/10], Step [200/235], Loss: 0.5229\n"
      ]
     },
     "metadata": {},
     "output_type": "display_data"
    },
    {
     "data": {
      "text/html": [
       "<pre style=\"white-space:pre;overflow-x:auto;line-height:normal;font-family:Menlo,'DejaVu Sans Mono',consolas,'Courier New',monospace\">13:32:27.243 | <span style=\"color: #008080; text-decoration-color: #008080\">INFO</span>    | Task run 'Train model-0' - Epoch [3/10], Step [100/235], Loss: 0.4847\n",
       "</pre>\n"
      ],
      "text/plain": [
       "13:32:27.243 | \u001b[36mINFO\u001b[0m    | Task run 'Train model-0' - Epoch [3/10], Step [100/235], Loss: 0.4847\n"
      ]
     },
     "metadata": {},
     "output_type": "display_data"
    },
    {
     "data": {
      "text/html": [
       "<pre style=\"white-space:pre;overflow-x:auto;line-height:normal;font-family:Menlo,'DejaVu Sans Mono',consolas,'Courier New',monospace\">13:32:27.340 | <span style=\"color: #008080; text-decoration-color: #008080\">INFO</span>    | Task run 'Train model-0' - Epoch [3/10], Step [200/235], Loss: 0.4414\n",
       "</pre>\n"
      ],
      "text/plain": [
       "13:32:27.340 | \u001b[36mINFO\u001b[0m    | Task run 'Train model-0' - Epoch [3/10], Step [200/235], Loss: 0.4414\n"
      ]
     },
     "metadata": {},
     "output_type": "display_data"
    },
    {
     "data": {
      "text/html": [
       "<pre style=\"white-space:pre;overflow-x:auto;line-height:normal;font-family:Menlo,'DejaVu Sans Mono',consolas,'Courier New',monospace\">13:32:27.472 | <span style=\"color: #008080; text-decoration-color: #008080\">INFO</span>    | Task run 'Train model-0' - Epoch [4/10], Step [100/235], Loss: 0.3871\n",
       "</pre>\n"
      ],
      "text/plain": [
       "13:32:27.472 | \u001b[36mINFO\u001b[0m    | Task run 'Train model-0' - Epoch [4/10], Step [100/235], Loss: 0.3871\n"
      ]
     },
     "metadata": {},
     "output_type": "display_data"
    },
    {
     "data": {
      "text/html": [
       "<pre style=\"white-space:pre;overflow-x:auto;line-height:normal;font-family:Menlo,'DejaVu Sans Mono',consolas,'Courier New',monospace\">13:32:27.568 | <span style=\"color: #008080; text-decoration-color: #008080\">INFO</span>    | Task run 'Train model-0' - Epoch [4/10], Step [200/235], Loss: 0.3003\n",
       "</pre>\n"
      ],
      "text/plain": [
       "13:32:27.568 | \u001b[36mINFO\u001b[0m    | Task run 'Train model-0' - Epoch [4/10], Step [200/235], Loss: 0.3003\n"
      ]
     },
     "metadata": {},
     "output_type": "display_data"
    },
    {
     "data": {
      "text/html": [
       "<pre style=\"white-space:pre;overflow-x:auto;line-height:normal;font-family:Menlo,'DejaVu Sans Mono',consolas,'Courier New',monospace\">13:32:27.701 | <span style=\"color: #008080; text-decoration-color: #008080\">INFO</span>    | Task run 'Train model-0' - Epoch [5/10], Step [100/235], Loss: 0.4412\n",
       "</pre>\n"
      ],
      "text/plain": [
       "13:32:27.701 | \u001b[36mINFO\u001b[0m    | Task run 'Train model-0' - Epoch [5/10], Step [100/235], Loss: 0.4412\n"
      ]
     },
     "metadata": {},
     "output_type": "display_data"
    },
    {
     "data": {
      "text/html": [
       "<pre style=\"white-space:pre;overflow-x:auto;line-height:normal;font-family:Menlo,'DejaVu Sans Mono',consolas,'Courier New',monospace\">13:32:27.798 | <span style=\"color: #008080; text-decoration-color: #008080\">INFO</span>    | Task run 'Train model-0' - Epoch [5/10], Step [200/235], Loss: 0.3453\n",
       "</pre>\n"
      ],
      "text/plain": [
       "13:32:27.798 | \u001b[36mINFO\u001b[0m    | Task run 'Train model-0' - Epoch [5/10], Step [200/235], Loss: 0.3453\n"
      ]
     },
     "metadata": {},
     "output_type": "display_data"
    },
    {
     "data": {
      "text/html": [
       "<pre style=\"white-space:pre;overflow-x:auto;line-height:normal;font-family:Menlo,'DejaVu Sans Mono',consolas,'Courier New',monospace\">13:32:27.930 | <span style=\"color: #008080; text-decoration-color: #008080\">INFO</span>    | Task run 'Train model-0' - Epoch [6/10], Step [100/235], Loss: 0.3426\n",
       "</pre>\n"
      ],
      "text/plain": [
       "13:32:27.930 | \u001b[36mINFO\u001b[0m    | Task run 'Train model-0' - Epoch [6/10], Step [100/235], Loss: 0.3426\n"
      ]
     },
     "metadata": {},
     "output_type": "display_data"
    },
    {
     "data": {
      "text/html": [
       "<pre style=\"white-space:pre;overflow-x:auto;line-height:normal;font-family:Menlo,'DejaVu Sans Mono',consolas,'Courier New',monospace\">13:32:28.026 | <span style=\"color: #008080; text-decoration-color: #008080\">INFO</span>    | Task run 'Train model-0' - Epoch [6/10], Step [200/235], Loss: 0.3413\n",
       "</pre>\n"
      ],
      "text/plain": [
       "13:32:28.026 | \u001b[36mINFO\u001b[0m    | Task run 'Train model-0' - Epoch [6/10], Step [200/235], Loss: 0.3413\n"
      ]
     },
     "metadata": {},
     "output_type": "display_data"
    },
    {
     "data": {
      "text/html": [
       "<pre style=\"white-space:pre;overflow-x:auto;line-height:normal;font-family:Menlo,'DejaVu Sans Mono',consolas,'Courier New',monospace\">13:32:28.227 | <span style=\"color: #008080; text-decoration-color: #008080\">INFO</span>    | Task run 'Train model-0' - Epoch [7/10], Step [100/235], Loss: 0.3012\n",
       "</pre>\n"
      ],
      "text/plain": [
       "13:32:28.227 | \u001b[36mINFO\u001b[0m    | Task run 'Train model-0' - Epoch [7/10], Step [100/235], Loss: 0.3012\n"
      ]
     },
     "metadata": {},
     "output_type": "display_data"
    },
    {
     "data": {
      "text/html": [
       "<pre style=\"white-space:pre;overflow-x:auto;line-height:normal;font-family:Menlo,'DejaVu Sans Mono',consolas,'Courier New',monospace\">13:32:28.325 | <span style=\"color: #008080; text-decoration-color: #008080\">INFO</span>    | Task run 'Train model-0' - Epoch [7/10], Step [200/235], Loss: 0.2877\n",
       "</pre>\n"
      ],
      "text/plain": [
       "13:32:28.325 | \u001b[36mINFO\u001b[0m    | Task run 'Train model-0' - Epoch [7/10], Step [200/235], Loss: 0.2877\n"
      ]
     },
     "metadata": {},
     "output_type": "display_data"
    },
    {
     "data": {
      "text/html": [
       "<pre style=\"white-space:pre;overflow-x:auto;line-height:normal;font-family:Menlo,'DejaVu Sans Mono',consolas,'Courier New',monospace\">13:32:28.457 | <span style=\"color: #008080; text-decoration-color: #008080\">INFO</span>    | Task run 'Train model-0' - Epoch [8/10], Step [100/235], Loss: 0.3666\n",
       "</pre>\n"
      ],
      "text/plain": [
       "13:32:28.457 | \u001b[36mINFO\u001b[0m    | Task run 'Train model-0' - Epoch [8/10], Step [100/235], Loss: 0.3666\n"
      ]
     },
     "metadata": {},
     "output_type": "display_data"
    },
    {
     "data": {
      "text/html": [
       "<pre style=\"white-space:pre;overflow-x:auto;line-height:normal;font-family:Menlo,'DejaVu Sans Mono',consolas,'Courier New',monospace\">13:32:28.556 | <span style=\"color: #008080; text-decoration-color: #008080\">INFO</span>    | Task run 'Train model-0' - Epoch [8/10], Step [200/235], Loss: 0.3500\n",
       "</pre>\n"
      ],
      "text/plain": [
       "13:32:28.556 | \u001b[36mINFO\u001b[0m    | Task run 'Train model-0' - Epoch [8/10], Step [200/235], Loss: 0.3500\n"
      ]
     },
     "metadata": {},
     "output_type": "display_data"
    },
    {
     "data": {
      "text/html": [
       "<pre style=\"white-space:pre;overflow-x:auto;line-height:normal;font-family:Menlo,'DejaVu Sans Mono',consolas,'Courier New',monospace\">13:32:28.688 | <span style=\"color: #008080; text-decoration-color: #008080\">INFO</span>    | Task run 'Train model-0' - Epoch [9/10], Step [100/235], Loss: 0.2855\n",
       "</pre>\n"
      ],
      "text/plain": [
       "13:32:28.688 | \u001b[36mINFO\u001b[0m    | Task run 'Train model-0' - Epoch [9/10], Step [100/235], Loss: 0.2855\n"
      ]
     },
     "metadata": {},
     "output_type": "display_data"
    },
    {
     "data": {
      "text/html": [
       "<pre style=\"white-space:pre;overflow-x:auto;line-height:normal;font-family:Menlo,'DejaVu Sans Mono',consolas,'Courier New',monospace\">13:32:28.789 | <span style=\"color: #008080; text-decoration-color: #008080\">INFO</span>    | Task run 'Train model-0' - Epoch [9/10], Step [200/235], Loss: 0.3008\n",
       "</pre>\n"
      ],
      "text/plain": [
       "13:32:28.789 | \u001b[36mINFO\u001b[0m    | Task run 'Train model-0' - Epoch [9/10], Step [200/235], Loss: 0.3008\n"
      ]
     },
     "metadata": {},
     "output_type": "display_data"
    },
    {
     "data": {
      "text/html": [
       "<pre style=\"white-space:pre;overflow-x:auto;line-height:normal;font-family:Menlo,'DejaVu Sans Mono',consolas,'Courier New',monospace\">13:32:28.963 | <span style=\"color: #008080; text-decoration-color: #008080\">INFO</span>    | Task run 'Train model-0' - Epoch [10/10], Step [100/235], Loss: 0.3128\n",
       "</pre>\n"
      ],
      "text/plain": [
       "13:32:28.963 | \u001b[36mINFO\u001b[0m    | Task run 'Train model-0' - Epoch [10/10], Step [100/235], Loss: 0.3128\n"
      ]
     },
     "metadata": {},
     "output_type": "display_data"
    },
    {
     "data": {
      "text/html": [
       "<pre style=\"white-space:pre;overflow-x:auto;line-height:normal;font-family:Menlo,'DejaVu Sans Mono',consolas,'Courier New',monospace\">13:32:29.078 | <span style=\"color: #008080; text-decoration-color: #008080\">INFO</span>    | Task run 'Train model-0' - Epoch [10/10], Step [200/235], Loss: 0.3523\n",
       "</pre>\n"
      ],
      "text/plain": [
       "13:32:29.078 | \u001b[36mINFO\u001b[0m    | Task run 'Train model-0' - Epoch [10/10], Step [200/235], Loss: 0.3523\n"
      ]
     },
     "metadata": {},
     "output_type": "display_data"
    },
    {
     "data": {
      "text/html": [
       "<pre style=\"white-space:pre;overflow-x:auto;line-height:normal;font-family:Menlo,'DejaVu Sans Mono',consolas,'Courier New',monospace\">13:32:29.119 | <span style=\"color: #008080; text-decoration-color: #008080\">INFO</span>    | Task run 'Train model-0' - ✅ Model trained successfully\n",
       "</pre>\n"
      ],
      "text/plain": [
       "13:32:29.119 | \u001b[36mINFO\u001b[0m    | Task run 'Train model-0' - ✅ Model trained successfully\n"
      ]
     },
     "metadata": {},
     "output_type": "display_data"
    },
    {
     "data": {
      "text/html": [
       "<pre style=\"white-space:pre;overflow-x:auto;line-height:normal;font-family:Menlo,'DejaVu Sans Mono',consolas,'Courier New',monospace\">13:32:29.385 | <span style=\"color: #008080; text-decoration-color: #008080\">INFO</span>    | Task run 'Train model-0' - Finished in state <span style=\"color: #008000; text-decoration-color: #008000\">Completed</span>()\n",
       "</pre>\n"
      ],
      "text/plain": [
       "13:32:29.385 | \u001b[36mINFO\u001b[0m    | Task run 'Train model-0' - Finished in state \u001b[32mCompleted\u001b[0m()\n"
      ]
     },
     "metadata": {},
     "output_type": "display_data"
    },
    {
     "data": {
      "text/html": [
       "<pre style=\"white-space:pre;overflow-x:auto;line-height:normal;font-family:Menlo,'DejaVu Sans Mono',consolas,'Courier New',monospace\">13:32:29.614 | <span style=\"color: #008080; text-decoration-color: #008080\">INFO</span>    | Action run 'magenta-griffin' - Created task run 'Test model-0' for task 'Test model'\n",
       "</pre>\n"
      ],
      "text/plain": [
       "13:32:29.614 | \u001b[36mINFO\u001b[0m    | Action run 'magenta-griffin' - Created task run 'Test model-0' for task 'Test model'\n"
      ]
     },
     "metadata": {},
     "output_type": "display_data"
    },
    {
     "data": {
      "text/html": [
       "<pre style=\"white-space:pre;overflow-x:auto;line-height:normal;font-family:Menlo,'DejaVu Sans Mono',consolas,'Courier New',monospace\">13:32:29.615 | <span style=\"color: #008080; text-decoration-color: #008080\">INFO</span>    | Action run 'magenta-griffin' - Executing 'Test model-0' immediately...\n",
       "</pre>\n"
      ],
      "text/plain": [
       "13:32:29.615 | \u001b[36mINFO\u001b[0m    | Action run 'magenta-griffin' - Executing 'Test model-0' immediately...\n"
      ]
     },
     "metadata": {},
     "output_type": "display_data"
    },
    {
     "data": {
      "text/html": [
       "<pre style=\"white-space:pre;overflow-x:auto;line-height:normal;font-family:Menlo,'DejaVu Sans Mono',consolas,'Courier New',monospace\">13:32:31.289 | <span style=\"color: #008080; text-decoration-color: #008080\">INFO</span>    | Task run 'Test model-0' - Test model...\n",
       "</pre>\n"
      ],
      "text/plain": [
       "13:32:31.289 | \u001b[36mINFO\u001b[0m    | Task run 'Test model-0' - Test model...\n"
      ]
     },
     "metadata": {},
     "output_type": "display_data"
    },
    {
     "data": {
      "text/html": [
       "<pre style=\"white-space:pre;overflow-x:auto;line-height:normal;font-family:Menlo,'DejaVu Sans Mono',consolas,'Courier New',monospace\">13:32:31.324 | <span style=\"color: #008080; text-decoration-color: #008080\">INFO</span>    | Task run 'Test model-0' - Accuracy of the network on the 10000 test images: 91.64 %\n",
       "</pre>\n"
      ],
      "text/plain": [
       "13:32:31.324 | \u001b[36mINFO\u001b[0m    | Task run 'Test model-0' - Accuracy of the network on the 10000 test images: 91.64 %\n"
      ]
     },
     "metadata": {},
     "output_type": "display_data"
    },
    {
     "data": {
      "text/html": [
       "<pre style=\"white-space:pre;overflow-x:auto;line-height:normal;font-family:Menlo,'DejaVu Sans Mono',consolas,'Courier New',monospace\">13:32:31.524 | <span style=\"color: #008080; text-decoration-color: #008080\">INFO</span>    | Task run 'Test model-0' - Finished in state <span style=\"color: #008000; text-decoration-color: #008000\">Completed</span>()\n",
       "</pre>\n"
      ],
      "text/plain": [
       "13:32:31.524 | \u001b[36mINFO\u001b[0m    | Task run 'Test model-0' - Finished in state \u001b[32mCompleted\u001b[0m()\n"
      ]
     },
     "metadata": {},
     "output_type": "display_data"
    },
    {
     "data": {
      "text/html": [
       "<pre style=\"white-space:pre;overflow-x:auto;line-height:normal;font-family:Menlo,'DejaVu Sans Mono',consolas,'Courier New',monospace\">13:32:31.707 | <span style=\"color: #008080; text-decoration-color: #008080\">INFO</span>    | Action run 'magenta-griffin' - Created task run 'Convert To ONNX-0' for task 'Convert To ONNX'\n",
       "</pre>\n"
      ],
      "text/plain": [
       "13:32:31.707 | \u001b[36mINFO\u001b[0m    | Action run 'magenta-griffin' - Created task run 'Convert To ONNX-0' for task 'Convert To ONNX'\n"
      ]
     },
     "metadata": {},
     "output_type": "display_data"
    },
    {
     "data": {
      "text/html": [
       "<pre style=\"white-space:pre;overflow-x:auto;line-height:normal;font-family:Menlo,'DejaVu Sans Mono',consolas,'Courier New',monospace\">13:32:31.708 | <span style=\"color: #008080; text-decoration-color: #008080\">INFO</span>    | Action run 'magenta-griffin' - Executing 'Convert To ONNX-0' immediately...\n",
       "</pre>\n"
      ],
      "text/plain": [
       "13:32:31.708 | \u001b[36mINFO\u001b[0m    | Action run 'magenta-griffin' - Executing 'Convert To ONNX-0' immediately...\n"
      ]
     },
     "metadata": {},
     "output_type": "display_data"
    },
    {
     "data": {
      "text/html": [
       "<pre style=\"white-space:pre;overflow-x:auto;line-height:normal;font-family:Menlo,'DejaVu Sans Mono',consolas,'Courier New',monospace\">13:32:32.093 | <span style=\"color: #008080; text-decoration-color: #008080\">INFO</span>    | Task run 'Convert To ONNX-0' - Model has been converted to ONNX and saved as mnist_model.onnx\n",
       "</pre>\n"
      ],
      "text/plain": [
       "13:32:32.093 | \u001b[36mINFO\u001b[0m    | Task run 'Convert To ONNX-0' - Model has been converted to ONNX and saved as mnist_model.onnx\n"
      ]
     },
     "metadata": {},
     "output_type": "display_data"
    },
    {
     "data": {
      "text/html": [
       "<pre style=\"white-space:pre;overflow-x:auto;line-height:normal;font-family:Menlo,'DejaVu Sans Mono',consolas,'Courier New',monospace\">13:32:32.360 | <span style=\"color: #008080; text-decoration-color: #008080\">INFO</span>    | Task run 'Convert To ONNX-0' - Finished in state <span style=\"color: #008000; text-decoration-color: #008000\">Completed</span>()\n",
       "</pre>\n"
      ],
      "text/plain": [
       "13:32:32.360 | \u001b[36mINFO\u001b[0m    | Task run 'Convert To ONNX-0' - Finished in state \u001b[32mCompleted\u001b[0m()\n"
      ]
     },
     "metadata": {},
     "output_type": "display_data"
    },
    {
     "data": {
      "text/html": [
       "<pre style=\"white-space:pre;overflow-x:auto;line-height:normal;font-family:Menlo,'DejaVu Sans Mono',consolas,'Courier New',monospace\">13:32:32.606 | <span style=\"color: #008080; text-decoration-color: #008080\">INFO</span>    | Action run 'magenta-griffin' - Finished in state <span style=\"color: #008000; text-decoration-color: #008000\">Completed</span>('All states completed.')\n",
       "</pre>\n"
      ],
      "text/plain": [
       "13:32:32.606 | \u001b[36mINFO\u001b[0m    | Action run 'magenta-griffin' - Finished in state \u001b[32mCompleted\u001b[0m('All states completed.')\n"
      ]
     },
     "metadata": {},
     "output_type": "display_data"
    },
    {
     "data": {
      "text/plain": [
       "[Completed(message=None, type=COMPLETED, result=UnpersistedResult(type='unpersisted', artifact_type='result', artifact_description='Unpersisted result of type `tuple`')),\n",
       " Completed(message=None, type=COMPLETED, result=UnpersistedResult(type='unpersisted', artifact_type='result', artifact_description='Unpersisted result of type `tuple`')),\n",
       " Completed(message=None, type=COMPLETED, result=UnpersistedResult(type='unpersisted', artifact_type='result', artifact_description='Unpersisted result of type `NeuralNet`')),\n",
       " Completed(message=None, type=COMPLETED, result=UnpersistedResult(type='unpersisted', artifact_type='result', artifact_description='Unpersisted result of type `NoneType`')),\n",
       " Completed(message=None, type=COMPLETED, result=UnpersistedResult(type='unpersisted', artifact_type='result', artifact_description='Unpersisted result of type `NoneType`'))]"
      ]
     },
     "execution_count": 10,
     "metadata": {},
     "output_type": "execute_result"
    }
   ],
   "source": [
    "import torch.onnx\n",
    "\n",
    "@task(name=f'Convert To ONNX')\n",
    "def convert_to_onnx(model, onnx_file_path):\n",
    "    dummy_input = torch.randn(1, input_size).to(device)\n",
    "    torch.onnx.export(model, dummy_input, onnx_file_path,\n",
    "                      export_params=True, opset_version=10, do_constant_folding=True)\n",
    "\n",
    "    print(f\"Model has been converted to ONNX and saved as {onnx_file_path}\")\n",
    "\n",
    "\n",
    "@action(name=\"Action: Convert To ONNX\", log_prints=True)\n",
    "def execution():\n",
    "    x_train, y_train, x_test, y_test = prepare_datasets()\n",
    "    train_loader, test_loader = create_data_loaders(\n",
    "        x_train, y_train, x_test, y_test)\n",
    "    model = train_model(train_loader)\n",
    "    test_model(model, test_loader)\n",
    "\n",
    "    # Convert to ONNX\n",
    "    onnx_file_path = \"mnist_model.onnx\"\n",
    "    convert_to_onnx(model, onnx_file_path)\n",
    "\n",
    "\n",
    "execution()"
   ]
  },
  {
   "cell_type": "markdown",
   "metadata": {},
   "source": [
    "## Transpile your model to Cairo and deploy on Giza"
   ]
  },
  {
   "cell_type": "markdown",
   "metadata": {},
   "source": [
    "Follow these steps to transpile your model to Orion Cairo code, compile the transpiled project, and deploy it on the Giza platform.\n",
    "\n",
    "### Step 1: Transpile Your Model\n",
    "Now that your model is converted to ONNX format, use the Giza-CLI to transpile it to Orion Cairo code:\n",
    "\n",
    "```bash\n",
    "$ giza transpile mnist_model.onnx --output-path verifiable_mnist\n",
    ">>> \n",
    "[giza][2024-02-07 16:32:13.511] Transpilation is fully compatible. \n",
    "Version compiled and Sierra is saved at Giza ✅\n",
    "```\n",
    "\n",
    "### Step 2: Deploy Your Model\n",
    "Thanks to full support for all operators used by MNIST model in the transpiler, your transpilation process is completely compatible. This ensures that your project compiles smoothly and has already been compiled behind the scenes on our platform. \n",
    "\n",
    "🚨: If your model incorporates operators that aren't supported by the transpiler, you may need to refine your Cairo project to ensure successful compilation. For more details, refer to the to [how-to-guide](https://actions.gizatech.xyz/how-to-guides/gizamodel#executing-verifiable-inference-with-gizamodel-and-onnx).\n",
    "\n",
    "With your model transpiled and compiled, it's now ready for deployment on the Giza platform. Our deployment process sets up services that handle prediction requests via a designated endpoint, using Cairo to ensure the provability of inferences.\n",
    "\n",
    "**Creating a New Deployment Service**\n",
    "\n",
    "Deploy your service, which will be ready to accept prediction requests at the /cairo_run endpoint, by using the following command:\n",
    "```bash\n",
    "giza deployments deploy --model-id <MODEL_ID> --version-id <VERSION_ID>\n",
    "```"
   ]
  },
  {
   "cell_type": "markdown",
   "metadata": {},
   "source": [
    "## Run your program\n",
    "\n",
    "Now that your Cairo model is deployed on the Giza platform, you have the capability to execute it. If you initiate a prediction using Giza Action without the `verifiable` mode, it runs the onnx version of the model.\n",
    "\n",
    "\n",
    "When you initiate a prediction using Giza Action in `verifiable` mode, it executes the Sierra program using CairoVM, generating trace and memory files for the proving. It also returns the output value and initiates a proving job to generate a Stark proof of the inference.\n",
    "\n"
   ]
  },
  {
   "cell_type": "markdown",
   "metadata": {},
   "source": [
    "First, let's make a prediction with the ONNX model (`veriable=False`) "
   ]
  },
  {
   "cell_type": "code",
   "execution_count": 4,
   "metadata": {},
   "outputs": [
    {
     "name": "stderr",
     "output_type": "stream",
     "text": [
      "/Users/raphaeldoukhan/Library/Caches/pypoetry/virtualenvs/giza-actions-mYf3m_Lk-py3.11/lib/python3.11/site-packages/prefect/tasks.py:337: UserWarning: A task named 'Preprocess Image' and defined at '/Users/raphaeldoukhan/Desktop/Orion-Giza/Tools/actions-sdk/giza_actions/task.py:5' conflicts with another task. Consider specifying a unique `name` parameter in the task definition:\n",
      "\n",
      " `@task(name='my_unique_name', ...)`\n",
      "  warnings.warn(\n"
     ]
    },
    {
     "data": {
      "text/html": [
       "<pre style=\"white-space:pre;overflow-x:auto;line-height:normal;font-family:Menlo,'DejaVu Sans Mono',consolas,'Courier New',monospace\">10:12:51.005 | <span style=\"color: #008080; text-decoration-color: #008080\">INFO</span>    | Created flow run<span style=\"color: #800080; text-decoration-color: #800080\"> 'positive-gopher'</span> for flow<span style=\"color: #800080; text-decoration-color: #800080; font-weight: bold\"> 'Execution: Prediction with ONNX'</span>\n",
       "</pre>\n"
      ],
      "text/plain": [
       "10:12:51.005 | \u001b[36mINFO\u001b[0m    | Created flow run\u001b[35m 'positive-gopher'\u001b[0m for flow\u001b[1;35m 'Execution: Prediction with ONNX'\u001b[0m\n"
      ]
     },
     "metadata": {},
     "output_type": "display_data"
    },
    {
     "data": {
      "text/html": [
       "<pre style=\"white-space:pre;overflow-x:auto;line-height:normal;font-family:Menlo,'DejaVu Sans Mono',consolas,'Courier New',monospace\">10:12:51.006 | <span style=\"color: #008080; text-decoration-color: #008080\">INFO</span>    | Action run 'positive-gopher' - View at <span style=\"color: #0000ff; text-decoration-color: #0000ff\">https://actions-server-raphael-doukhan-dblzzhtf5q-ew.a.run.app/flow-runs/flow-run/c588d4ce-c447-447f-b81b-db35d9bcc69d</span>\n",
       "</pre>\n"
      ],
      "text/plain": [
       "10:12:51.006 | \u001b[36mINFO\u001b[0m    | Action run 'positive-gopher' - View at \u001b[94mhttps://actions-server-raphael-doukhan-dblzzhtf5q-ew.a.run.app/flow-runs/flow-run/c588d4ce-c447-447f-b81b-db35d9bcc69d\u001b[0m\n"
      ]
     },
     "metadata": {},
     "output_type": "display_data"
    },
    {
     "data": {
      "text/html": [
       "<pre style=\"white-space:pre;overflow-x:auto;line-height:normal;font-family:Menlo,'DejaVu Sans Mono',consolas,'Courier New',monospace\">10:12:51.340 | <span style=\"color: #008080; text-decoration-color: #008080\">INFO</span>    | Action run 'positive-gopher' - Created task run 'Preprocess Image-0' for task 'Preprocess Image'\n",
       "</pre>\n"
      ],
      "text/plain": [
       "10:12:51.340 | \u001b[36mINFO\u001b[0m    | Action run 'positive-gopher' - Created task run 'Preprocess Image-0' for task 'Preprocess Image'\n"
      ]
     },
     "metadata": {},
     "output_type": "display_data"
    },
    {
     "data": {
      "text/html": [
       "<pre style=\"white-space:pre;overflow-x:auto;line-height:normal;font-family:Menlo,'DejaVu Sans Mono',consolas,'Courier New',monospace\">10:12:51.343 | <span style=\"color: #008080; text-decoration-color: #008080\">INFO</span>    | Action run 'positive-gopher' - Executing 'Preprocess Image-0' immediately...\n",
       "</pre>\n"
      ],
      "text/plain": [
       "10:12:51.343 | \u001b[36mINFO\u001b[0m    | Action run 'positive-gopher' - Executing 'Preprocess Image-0' immediately...\n"
      ]
     },
     "metadata": {},
     "output_type": "display_data"
    },
    {
     "data": {
      "text/html": [
       "<pre style=\"white-space:pre;overflow-x:auto;line-height:normal;font-family:Menlo,'DejaVu Sans Mono',consolas,'Courier New',monospace\">10:12:51.716 | <span style=\"color: #008080; text-decoration-color: #008080\">INFO</span>    | Task run 'Preprocess Image-0' - Finished in state <span style=\"color: #008000; text-decoration-color: #008000\">Completed</span>()\n",
       "</pre>\n"
      ],
      "text/plain": [
       "10:12:51.716 | \u001b[36mINFO\u001b[0m    | Task run 'Preprocess Image-0' - Finished in state \u001b[32mCompleted\u001b[0m()\n"
      ]
     },
     "metadata": {},
     "output_type": "display_data"
    },
    {
     "data": {
      "text/html": [
       "<pre style=\"white-space:pre;overflow-x:auto;line-height:normal;font-family:Menlo,'DejaVu Sans Mono',consolas,'Courier New',monospace\">10:12:51.833 | <span style=\"color: #008080; text-decoration-color: #008080\">INFO</span>    | Action run 'positive-gopher' - Created task run 'Prediction with ONNX-0' for task 'Prediction with ONNX'\n",
       "</pre>\n"
      ],
      "text/plain": [
       "10:12:51.833 | \u001b[36mINFO\u001b[0m    | Action run 'positive-gopher' - Created task run 'Prediction with ONNX-0' for task 'Prediction with ONNX'\n"
      ]
     },
     "metadata": {},
     "output_type": "display_data"
    },
    {
     "data": {
      "text/html": [
       "<pre style=\"white-space:pre;overflow-x:auto;line-height:normal;font-family:Menlo,'DejaVu Sans Mono',consolas,'Courier New',monospace\">10:12:51.836 | <span style=\"color: #008080; text-decoration-color: #008080\">INFO</span>    | Action run 'positive-gopher' - Executing 'Prediction with ONNX-0' immediately...\n",
       "</pre>\n"
      ],
      "text/plain": [
       "10:12:51.836 | \u001b[36mINFO\u001b[0m    | Action run 'positive-gopher' - Executing 'Prediction with ONNX-0' immediately...\n"
      ]
     },
     "metadata": {},
     "output_type": "display_data"
    },
    {
     "data": {
      "text/html": [
       "<pre style=\"white-space:pre;overflow-x:auto;line-height:normal;font-family:Menlo,'DejaVu Sans Mono',consolas,'Courier New',monospace\">10:12:52.069 | <span style=\"color: #008080; text-decoration-color: #008080\">INFO</span>    | Task run 'Prediction with ONNX-0' - [ONNXRuntimeError] : 3 : NO_SUCHFILE : Load model from ./mnist_model.onnx failed:Load model ./mnist_model.onnx failed. File doesn't exist\n",
       "</pre>\n"
      ],
      "text/plain": [
       "10:12:52.069 | \u001b[36mINFO\u001b[0m    | Task run 'Prediction with ONNX-0' - [ONNXRuntimeError] : 3 : NO_SUCHFILE : Load model from ./mnist_model.onnx failed:Load model ./mnist_model.onnx failed. File doesn't exist\n"
      ]
     },
     "metadata": {},
     "output_type": "display_data"
    },
    {
     "data": {
      "text/html": [
       "<pre style=\"white-space:pre;overflow-x:auto;line-height:normal;font-family:Menlo,'DejaVu Sans Mono',consolas,'Courier New',monospace\">10:12:52.199 | <span style=\"color: #008080; text-decoration-color: #008080\">INFO</span>    | Task run 'Prediction with ONNX-0' - Finished in state <span style=\"color: #008000; text-decoration-color: #008000\">Completed</span>()\n",
       "</pre>\n"
      ],
      "text/plain": [
       "10:12:52.199 | \u001b[36mINFO\u001b[0m    | Task run 'Prediction with ONNX-0' - Finished in state \u001b[32mCompleted\u001b[0m()\n"
      ]
     },
     "metadata": {},
     "output_type": "display_data"
    },
    {
     "data": {
      "text/html": [
       "<pre style=\"white-space:pre;overflow-x:auto;line-height:normal;font-family:Menlo,'DejaVu Sans Mono',consolas,'Courier New',monospace\">10:12:52.202 | <span style=\"color: #008080; text-decoration-color: #008080\">INFO</span>    | Action run 'positive-gopher' - Predicted Digit: None\n",
       "</pre>\n"
      ],
      "text/plain": [
       "10:12:52.202 | \u001b[36mINFO\u001b[0m    | Action run 'positive-gopher' - Predicted Digit: None\n"
      ]
     },
     "metadata": {},
     "output_type": "display_data"
    },
    {
     "data": {
      "text/html": [
       "<pre style=\"white-space:pre;overflow-x:auto;line-height:normal;font-family:Menlo,'DejaVu Sans Mono',consolas,'Courier New',monospace\">10:12:52.331 | <span style=\"color: #008080; text-decoration-color: #008080\">INFO</span>    | Action run 'positive-gopher' - Finished in state <span style=\"color: #008000; text-decoration-color: #008000\">Completed</span>('All states completed.')\n",
       "</pre>\n"
      ],
      "text/plain": [
       "10:12:52.331 | \u001b[36mINFO\u001b[0m    | Action run 'positive-gopher' - Finished in state \u001b[32mCompleted\u001b[0m('All states completed.')\n"
      ]
     },
     "metadata": {},
     "output_type": "display_data"
    },
    {
     "data": {
      "text/plain": [
       "[Completed(message=None, type=COMPLETED, result=UnpersistedResult(type='unpersisted', artifact_type='result', artifact_description='Unpersisted result of type `ndarray`')),\n",
       " Completed(message=None, type=COMPLETED, result=UnpersistedResult(type='unpersisted', artifact_type='result', artifact_description='Unpersisted result of type `NoneType`'))]"
      ]
     },
     "execution_count": 4,
     "metadata": {},
     "output_type": "execute_result"
    }
   ],
   "source": [
    "from giza_actions.model import GizaModel\n",
    "import torch.nn.functional as F\n",
    "\n",
    "\n",
    "@task(name=f'Preprocess Image')\n",
    "def preprocess_image(image_path):\n",
    "    from PIL import Image\n",
    "    import numpy as np\n",
    "\n",
    "    # Load image, convert to grayscale, resize and normalize\n",
    "    image = Image.open(image_path).convert('L')\n",
    "    # Resize to match the input size of the model\n",
    "    image = image.resize((14, 14))\n",
    "    image = np.array(image).astype('float32') / 255\n",
    "    image = image.reshape(1, 196)  # Reshape to (1, 196) for model input\n",
    "    return image\n",
    "\n",
    "\n",
    "@task(name=f'Prediction with ONNX')\n",
    "def prediction(image):\n",
    "    model = GizaModel(model_path=\"./mnist_model.onnx\")\n",
    "\n",
    "    result = model.predict(\n",
    "        input_feed={\"onnx::Gemm_0\": image}, verifiable=False\n",
    "    )\n",
    "\n",
    "    # Convert result to a PyTorch tensor\n",
    "    result_tensor = torch.tensor(result)\n",
    "    # Apply softmax to convert to probabilities\n",
    "    probabilities = F.softmax(result_tensor, dim=1)\n",
    "    # Use argmax to get the predicted class\n",
    "    predicted_class = torch.argmax(probabilities, dim=1)\n",
    "\n",
    "    return predicted_class.item()\n",
    "\n",
    "\n",
    "@action(name=f'Execution: Prediction with ONNX', log_prints=True )\n",
    "def execution():\n",
    "    image = preprocess_image(\"./imgs/zero.png\")\n",
    "    predicted_digit = prediction(image)\n",
    "    print(f\"Predicted Digit: {predicted_digit}\")\n",
    "\n",
    "    return predicted_digit\n",
    "\n",
    "\n",
    "execution()"
   ]
  },
  {
   "cell_type": "markdown",
   "metadata": {},
   "source": [
    "Now, let's make a prediction with the Cairo model (`veriable=True`)."
   ]
  },
  {
   "cell_type": "code",
   "execution_count": 5,
   "metadata": {},
   "outputs": [
    {
     "name": "stderr",
     "output_type": "stream",
     "text": [
      "/Users/raphaeldoukhan/Library/Caches/pypoetry/virtualenvs/giza-actions-mYf3m_Lk-py3.11/lib/python3.11/site-packages/prefect/tasks.py:332: UserWarning: A task named 'Preprocess Image' and defined at '/Users/raphaeldoukhan/Desktop/Orion-Giza/Tools/actions-sdk/giza_actions/task.py:7' conflicts with another task. Consider specifying a unique `name` parameter in the task definition:\n",
      "\n",
      " `@task(name='my_unique_name', ...)`\n",
      "  warnings.warn(\n",
      "/Users/raphaeldoukhan/Library/Caches/pypoetry/virtualenvs/giza-actions-mYf3m_Lk-py3.11/lib/python3.11/site-packages/prefect/tasks.py:332: UserWarning: A task named 'Prediction with Cairo' and defined at '/Users/raphaeldoukhan/Desktop/Orion-Giza/Tools/actions-sdk/giza_actions/task.py:20' conflicts with another task. Consider specifying a unique `name` parameter in the task definition:\n",
      "\n",
      " `@task(name='my_unique_name', ...)`\n",
      "  warnings.warn(\n",
      "/Users/raphaeldoukhan/Library/Caches/pypoetry/virtualenvs/giza-actions-mYf3m_Lk-py3.11/lib/python3.11/site-packages/prefect/flows.py:336: UserWarning: A flow named 'Execution: Prediction with Cairo' and defined at '/Users/raphaeldoukhan/Desktop/Orion-Giza/Tools/actions-sdk/giza_actions/action.py:36' conflicts with another flow. Consider specifying a unique `name` parameter in the flow definition:\n",
      "\n",
      " `@flow(name='my_unique_name', ...)`\n",
      "  warnings.warn(\n"
     ]
    },
    {
     "data": {
      "text/html": [
       "<pre style=\"white-space:pre;overflow-x:auto;line-height:normal;font-family:Menlo,'DejaVu Sans Mono',consolas,'Courier New',monospace\">18:29:27.522 | <span style=\"color: #008080; text-decoration-color: #008080\">INFO</span>    | Created flow run<span style=\"color: #800080; text-decoration-color: #800080\"> 'shapeless-snail'</span> for flow<span style=\"color: #800080; text-decoration-color: #800080; font-weight: bold\"> 'Execution: Prediction with Cairo'</span>\n",
       "</pre>\n"
      ],
      "text/plain": [
       "18:29:27.522 | \u001b[36mINFO\u001b[0m    | Created flow run\u001b[35m 'shapeless-snail'\u001b[0m for flow\u001b[1;35m 'Execution: Prediction with Cairo'\u001b[0m\n"
      ]
     },
     "metadata": {},
     "output_type": "display_data"
    },
    {
     "data": {
      "text/html": [
       "<pre style=\"white-space:pre;overflow-x:auto;line-height:normal;font-family:Menlo,'DejaVu Sans Mono',consolas,'Courier New',monospace\">18:29:27.523 | <span style=\"color: #008080; text-decoration-color: #008080\">INFO</span>    | Action run 'shapeless-snail' - View at <span style=\"color: #0000ff; text-decoration-color: #0000ff\">https://actions-server-raphael-doukhan-dblzzhtf5q-ew.a.run.app/flow-runs/flow-run/5068c561-0a8c-4fcf-9bff-8cb7b2617d19</span>\n",
       "</pre>\n"
      ],
      "text/plain": [
       "18:29:27.523 | \u001b[36mINFO\u001b[0m    | Action run 'shapeless-snail' - View at \u001b[94mhttps://actions-server-raphael-doukhan-dblzzhtf5q-ew.a.run.app/flow-runs/flow-run/5068c561-0a8c-4fcf-9bff-8cb7b2617d19\u001b[0m\n"
      ]
     },
     "metadata": {},
     "output_type": "display_data"
    },
    {
     "data": {
      "text/html": [
       "<pre style=\"white-space:pre;overflow-x:auto;line-height:normal;font-family:Menlo,'DejaVu Sans Mono',consolas,'Courier New',monospace\">18:29:27.740 | <span style=\"color: #008080; text-decoration-color: #008080\">INFO</span>    | Action run 'shapeless-snail' - Created task run 'Preprocess Image-0' for task 'Preprocess Image'\n",
       "</pre>\n"
      ],
      "text/plain": [
       "18:29:27.740 | \u001b[36mINFO\u001b[0m    | Action run 'shapeless-snail' - Created task run 'Preprocess Image-0' for task 'Preprocess Image'\n"
      ]
     },
     "metadata": {},
     "output_type": "display_data"
    },
    {
     "data": {
      "text/html": [
       "<pre style=\"white-space:pre;overflow-x:auto;line-height:normal;font-family:Menlo,'DejaVu Sans Mono',consolas,'Courier New',monospace\">18:29:27.742 | <span style=\"color: #008080; text-decoration-color: #008080\">INFO</span>    | Action run 'shapeless-snail' - Executing 'Preprocess Image-0' immediately...\n",
       "</pre>\n"
      ],
      "text/plain": [
       "18:29:27.742 | \u001b[36mINFO\u001b[0m    | Action run 'shapeless-snail' - Executing 'Preprocess Image-0' immediately...\n"
      ]
     },
     "metadata": {},
     "output_type": "display_data"
    },
    {
     "data": {
      "text/html": [
       "<pre style=\"white-space:pre;overflow-x:auto;line-height:normal;font-family:Menlo,'DejaVu Sans Mono',consolas,'Courier New',monospace\">18:29:28.006 | <span style=\"color: #008080; text-decoration-color: #008080\">INFO</span>    | Task run 'Preprocess Image-0' - Finished in state <span style=\"color: #008000; text-decoration-color: #008000\">Completed</span>()\n",
       "</pre>\n"
      ],
      "text/plain": [
       "18:29:28.006 | \u001b[36mINFO\u001b[0m    | Task run 'Preprocess Image-0' - Finished in state \u001b[32mCompleted\u001b[0m()\n"
      ]
     },
     "metadata": {},
     "output_type": "display_data"
    },
    {
     "data": {
      "text/html": [
       "<pre style=\"white-space:pre;overflow-x:auto;line-height:normal;font-family:Menlo,'DejaVu Sans Mono',consolas,'Courier New',monospace\">18:29:28.112 | <span style=\"color: #008080; text-decoration-color: #008080\">INFO</span>    | Action run 'shapeless-snail' - Created task run 'Prediction with Cairo-0' for task 'Prediction with Cairo'\n",
       "</pre>\n"
      ],
      "text/plain": [
       "18:29:28.112 | \u001b[36mINFO\u001b[0m    | Action run 'shapeless-snail' - Created task run 'Prediction with Cairo-0' for task 'Prediction with Cairo'\n"
      ]
     },
     "metadata": {},
     "output_type": "display_data"
    },
    {
     "data": {
      "text/html": [
       "<pre style=\"white-space:pre;overflow-x:auto;line-height:normal;font-family:Menlo,'DejaVu Sans Mono',consolas,'Courier New',monospace\">18:29:28.115 | <span style=\"color: #008080; text-decoration-color: #008080\">INFO</span>    | Action run 'shapeless-snail' - Executing 'Prediction with Cairo-0' immediately...\n",
       "</pre>\n"
      ],
      "text/plain": [
       "18:29:28.115 | \u001b[36mINFO\u001b[0m    | Action run 'shapeless-snail' - Executing 'Prediction with Cairo-0' immediately...\n"
      ]
     },
     "metadata": {},
     "output_type": "display_data"
    },
    {
     "name": "stdout",
     "output_type": "stream",
     "text": [
      "🚀 Starting deserialization process...\n",
      "✅ Deserialization completed! 🎉\n"
     ]
    },
    {
     "data": {
      "text/html": [
       "<pre style=\"white-space:pre;overflow-x:auto;line-height:normal;font-family:Menlo,'DejaVu Sans Mono',consolas,'Courier New',monospace\">18:29:32.420 | <span style=\"color: #008080; text-decoration-color: #008080\">INFO</span>    | Task run 'Prediction with Cairo-0' - Finished in state <span style=\"color: #008000; text-decoration-color: #008000\">Completed</span>()\n",
       "</pre>\n"
      ],
      "text/plain": [
       "18:29:32.420 | \u001b[36mINFO\u001b[0m    | Task run 'Prediction with Cairo-0' - Finished in state \u001b[32mCompleted\u001b[0m()\n"
      ]
     },
     "metadata": {},
     "output_type": "display_data"
    },
    {
     "data": {
      "text/html": [
       "<pre style=\"white-space:pre;overflow-x:auto;line-height:normal;font-family:Menlo,'DejaVu Sans Mono',consolas,'Courier New',monospace\">18:29:32.421 | <span style=\"color: #008080; text-decoration-color: #008080\">INFO</span>    | Action run 'shapeless-snail' - Result:  tensor([0])\n",
       "</pre>\n"
      ],
      "text/plain": [
       "18:29:32.421 | \u001b[36mINFO\u001b[0m    | Action run 'shapeless-snail' - Result:  tensor([0])\n"
      ]
     },
     "metadata": {},
     "output_type": "display_data"
    },
    {
     "data": {
      "text/html": [
       "<pre style=\"white-space:pre;overflow-x:auto;line-height:normal;font-family:Menlo,'DejaVu Sans Mono',consolas,'Courier New',monospace\">18:29:32.422 | <span style=\"color: #008080; text-decoration-color: #008080\">INFO</span>    | Action run 'shapeless-snail' - Request id:  \"b2484bba4b5644df80ab7eed20f1c87b\"\n",
       "</pre>\n"
      ],
      "text/plain": [
       "18:29:32.422 | \u001b[36mINFO\u001b[0m    | Action run 'shapeless-snail' - Request id:  \"b2484bba4b5644df80ab7eed20f1c87b\"\n"
      ]
     },
     "metadata": {},
     "output_type": "display_data"
    },
    {
     "data": {
      "text/html": [
       "<pre style=\"white-space:pre;overflow-x:auto;line-height:normal;font-family:Menlo,'DejaVu Sans Mono',consolas,'Courier New',monospace\">18:29:32.508 | <span style=\"color: #008080; text-decoration-color: #008080\">INFO</span>    | Action run 'shapeless-snail' - Finished in state <span style=\"color: #008000; text-decoration-color: #008000\">Completed</span>()\n",
       "</pre>\n"
      ],
      "text/plain": [
       "18:29:32.508 | \u001b[36mINFO\u001b[0m    | Action run 'shapeless-snail' - Finished in state \u001b[32mCompleted\u001b[0m()\n"
      ]
     },
     "metadata": {},
     "output_type": "display_data"
    },
    {
     "data": {
      "text/plain": [
       "(tensor([0]), '\"b2484bba4b5644df80ab7eed20f1c87b\"')"
      ]
     },
     "execution_count": 5,
     "metadata": {},
     "output_type": "execute_result"
    }
   ],
   "source": [
    "from giza_actions.model import GizaModel\n",
    "import torch.nn.functional as F\n",
    "\n",
    "MODEL_ID = 296  # Update with your model ID\n",
    "VERSION_ID = 1  # Update with your version ID\n",
    "\n",
    "\n",
    "@task(name=f'Preprocess Image')\n",
    "def preprocess_image(image_path):\n",
    "    from PIL import Image\n",
    "    import numpy as np\n",
    "\n",
    "    # Load image, convert to grayscale, resize and normalize\n",
    "    image = Image.open(image_path).convert('L')\n",
    "    # Resize to match the input size of the model\n",
    "    image = image.resize((14, 14))\n",
    "    image = np.array(image).astype('float32') / 255\n",
    "    image = image.reshape(1, 196)  # Reshape to (1, 196) for model input\n",
    "    return image\n",
    "\n",
    "\n",
    "@task(name=f'Prediction with Cairo')\n",
    "def prediction(image, model_id, version_id):\n",
    "    model = GizaModel(id=model_id, version=version_id)\n",
    "\n",
    "    (result, request_id) = model.predict(\n",
    "        input_feed={\"image\": image}, verifiable=True\n",
    "    )\n",
    "\n",
    "    # Convert result to a PyTorch tensor\n",
    "    probabilities = torch.tensor(result)\n",
    "    # Use argmax to get the predicted class\n",
    "    predicted_class = torch.argmax(probabilities, dim=1)\n",
    "\n",
    "    return predicted_class, request_id\n",
    "\n",
    "\n",
    "@action(name=f'Execution: Prediction with Cairo', log_prints=True)\n",
    "def execution():\n",
    "    image = preprocess_image(\"./imgs/zero.png\")\n",
    "    (result, request_id) = prediction(image, MODEL_ID, VERSION_ID)\n",
    "    print(\"Result: \", result)\n",
    "    print(\"Request id: \", request_id)\n",
    "\n",
    "    return result, request_id\n",
    "\n",
    "\n",
    "execution()"
   ]
  },
  {
   "cell_type": "markdown",
   "metadata": {},
   "source": [
    "## Download and Verify the proof"
   ]
  },
  {
   "cell_type": "markdown",
   "metadata": {},
   "source": [
    "When you ran your model, CairoVM generated trace and memory files under the hood to prove your program. We have initiated a proof job on your behalf and completed the proof."
   ]
  },
  {
   "cell_type": "markdown",
   "metadata": {},
   "source": [
    "In the code below, we will download the ZK proof generated in the proof-job."
   ]
  },
  {
   "cell_type": "code",
   "execution_count": 10,
   "metadata": {},
   "outputs": [],
   "source": [
    "import requests\n",
    "from giza import API_HOST\n",
    "\n",
    "MODEL_ID = 199  # Update with your model ID\n",
    "VERSION_ID = 5  # Update with your version ID\n",
    "DEPLOYMENT_ID = 3  # Update with your deployment id\n",
    "REQUEST_ID = \"YOUR_REQUEST_ID\"  # Update with your request id\n",
    "API_KEY = 'YOUR_API_KEY'  # Update with your API key\n",
    "\n",
    "url = f'{API_HOST}/api/v1/models/{MODEL_ID}/versions/{VERSION_ID}/deployments/{DEPLOYMENT_ID}/proofs/{REQUEST_ID}:download'\n",
    "\n",
    "headers = {\"X-API-KEY\": API_KEY}\n",
    "\n",
    "d_url = requests.get(url, headers=headers).json()[\"download_url\"]\n",
    "\n",
    "proof = requests.get(d_url)\n",
    "\n",
    "with open(\"zk.proof\", \"wb\") as f:\n",
    "     f.write(proof.content)"
   ]
  },
  {
   "cell_type": "markdown",
   "metadata": {},
   "source": [
    "Now, let's verify the proof!\n",
    "All you need to do is simply running: \n",
    "```bash\n",
    "giza verify --proof PATH_TO_PROOF\n",
    "```"
   ]
  },
  {
   "cell_type": "markdown",
   "metadata": {},
   "source": [
    "Voilà 🎉! You've learned how to use the entire Giza stack, from training your model to transpiling it to Cairo for verifiable execution. You've also learned how to verify the proof. We hope you've enjoyed this journey! If you have any questions, please feel free to join us in our [Discord](https://discord.gg/zF2dxSYk6Z), or [open an issue](https://github.com/gizatechxyz/actions-sdk/issues). "
   ]
  }
 ],
 "metadata": {
  "kernelspec": {
   "display_name": "giza-actions-mYf3m_Lk-py3.11",
   "language": "python",
   "name": "python3"
  },
  "language_info": {
   "codemirror_mode": {
    "name": "ipython",
    "version": 3
   },
   "file_extension": ".py",
   "mimetype": "text/x-python",
   "name": "python",
   "nbconvert_exporter": "python",
   "pygments_lexer": "ipython3",
   "version": "3.11.6"
  }
 },
 "nbformat": 4,
 "nbformat_minor": 2
}
