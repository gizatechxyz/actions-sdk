{
 "cells": [
  {
   "cell_type": "markdown",
   "metadata": {},
   "source": [
    "# Create an AI Agent to Mint a MNIST NFT\n",
    "\n",
    "Agents are entities designed to assist users in interacting with Smart Contracts by managing the proof verification of verifiable ML models and executing these contracts using [Ape's framework](https://apeworx.io/framework/).\n",
    "\n",
    "Agents serve as intermediaries between users and Smart Contracts, facilitating seamless interaction with verifiable ML models and executing associated contracts. They handle the verification of proofs, ensuring the integrity and authenticity of data used in contract execution.\n",
    "\n",
    "In this notebook, we will create an AI Agent to mint an MNIST NFT. Using an existing MNIST endpoint, we will perform a prediction on the MNIST dataset and mint an NFT based on the prediction.\n",
    "\n",
    "This tutorial can be thought of as the continuation of the previous tutorial [Verifiable MNIST Neural Network](https://docs.gizatech.xyz/tutorials/zkml/verifiable-mnist-neural-network) where we created a verifiable MNIST model ([notebook](https://github.com/gizatechxyz/giza-agents/blob/main/examples/verifiable_mnist/verifiable_mnist.ipynb)).\n",
    "\n",
    "## Before you begin\n",
    "\n",
    "1. Python 3.11 or later must be installed on your machine\n",
    "2. Giza CLI must be installed on your machine. You can install it by running `pip install giza-cli`\n",
    "3. giza-agents should be installed. You can install it by running `pip install giza-agents`\n",
    "4. You must have an active Giza account. If you don't have one, you can create one [here](https://cli.gizatech.xyz/examples/basic).\n",
    "5. You must have an MNIST model deployed on Giza. You can follow the tutorial [Build a Verifiable Neural Network](https://docs.gizatech.xyz/tutorials/zkml/verifiable-mnist-neural-network) to deploy an MNIST model on Giza.\n",
    "6. During the tutorial, you will need to interact with the Giza CLI, and Ape's framework, and provide multiple inputs, like `model-id`, `version-id`, `account name`, etc.\n",
    "7. You must be logged in to the Giza CLI or have an API KEY.\n",
    "\n",
    "## Installing the required libraries\n",
    "\n",
    "Let's start by installing the required libraries.\n",
    "\n",
    "```bash\n",
    "pip install giza-agents\n",
    "```\n",
    "\n",
    "This will install the `giza-agents` library, which contains the necessary tools to create an AI Agent.\n",
    "\n",
    "## Creating an account\n",
    "\n",
    "Before we can create an AI Agent, we need to create an account using Ape's framework. We can do this by running the following command:\n",
    "\n",
    "```bash\n",
    "$ ape accounts generate <account name>\n",
    "Enhance the security of your account by adding additional random input:\n",
    "Show mnemonic? [Y/n]: n\n",
    "Create Passphrase to encrypt account:\n",
    "Repeat for confirmation:\n",
    "SUCCESS: A new account '0x766867bB2E3E1A6E6245F4930b47E9aF54cEba0C' with HDPath m/44'/60'/0'/0/0 has been added with the id '<account name>'\n",
    "```\n",
    "\n",
    "This will create a new account under `$HOME/.ape/accounts` using the keyfile structure from the [eth-keyfile library](https://github.com/ethereum/eth-keyfile)\n",
    ". For more information on account management, you can refer to the [Ape's framework documentation](https://docs.apeworx.io/ape/stable/userguides/accounts.html#keyfile-accounts).\n",
    "\n",
    "During account generation we will be prompted to enter a passphrase to encrypt the account, which will be used to unlock the said account when needed, so **make sure to keep it safe**.\n",
    "\n",
    "We encourage the creation of a new account for each agent, as it will allow you to manage the agent's permissions and access control more effectively, but importing accounts is also possible.\n",
    "\n",
    "## Funding the account\n",
    "\n",
    "Before we can create an AI Agent, we need to fund the account with some ETH. You can do this by sending some ETH to the account address generated in the previous step.\n",
    "\n",
    "In this case, we will use Sepolia testnet, you can get some testnet ETH from a faucet like [Alchemy Sepolia Faucet](https://www.alchemy.com/faucets/ethereum-sepolia) or [LearnWeb3 Faucet](https://learnweb3.io/faucets/sepolia/). These faucets will ask for security measures to make sure that you are not a bot (by checking whether you have a specific amount of ETH in the mainnet or a GitHub account, for example). There are many faucets available and you are free to choose the one that suits you the best.\n",
    "\n",
    "Once the testnet ETH have been received and the account has been funded, we can proceed with the creation of an AI Agent.\n",
    "\n",
    "![account](img/account.png)\n",
    "\n",
    "## Creating an AI Agent\n",
    "\n",
    "Now that we have a funded account, we can create an AI Agent. This can be done by running the following command:\n",
    "\n",
    "```bash\n",
    "giza agents create --model-id <model-id> --version-id <version-id> --name <agent name> --description <agent description>\n",
    "\n",
    "# or if you have the endpoint-id\n",
    "\n",
    "giza agents create --endpoint-id <endpoint-id> --name <agent name> --description <agent description>\n",
    "```\n",
    "\n",
    "This command will prompt you to choose the account you want to use with the agent. Once you select the account, the agent will be created and you will receive the agent id. The output will look like this:\n",
    "\n",
    "```console\n",
    "[giza][2024-04-10 11:50:24.005] Creating agent ✅\n",
    "[giza][2024-04-10 11:50:24.006] Using endpoint id to create agent, retrieving model id and version id\n",
    "[giza][2024-04-10 11:50:53.480] Select an existing account to create the agent.\n",
    "[giza][2024-04-10 11:50:53.480] Available accounts are:\n",
    "┏━━━━━━━━━━━━━┓\n",
    "┃  Accounts   ┃\n",
    "┡━━━━━━━━━━━━━┩\n",
    "│ my_account  │\n",
    "└─────────────┘\n",
    "Enter the account name: my_account\n",
    "{\n",
    "  \"id\": 1,\n",
    "  \"name\": <agent_name>,\n",
    "  \"description\": <agent_description>,\n",
    "  \"parameters\": {\n",
    "    \"model_id\": <model_id>,\n",
    "    \"version_id\": <version_id>,\n",
    "    \"endpoint_id\": <endpoint_id>,\n",
    "    \"alias\": \"my_account\"\n",
    "  },\n",
    "  \"created_date\": \"2024-04-10T09:51:04.226448\",\n",
    "  \"last_update\": \"2024-04-10T09:51:04.226448\"\n",
    "}\n",
    "```\n",
    "\n",
    "This will create an AI Agent that can be used to interact with the deployed MNIST model.\n",
    "\n",
    "## How to use the AI Agent\n",
    "\n",
    "Now that the agent is created we can start using it through the `giza-agents` library. As we will be using the agent to mint an MNIST NFT, we will need to provide the MNIST image to the agent and preprocess it before sending it to the model."
   ]
  },
  {
   "cell_type": "code",
   "execution_count": null,
   "metadata": {},
   "outputs": [],
   "source": [
    "import pprint\n",
    "import numpy as np\n",
    "from PIL import Image\n",
    "\n",
    "from giza.agents import GizaAgent, AgentResult\n",
    "\n",
    "# Make sure to fill these in\n",
    "MODEL_ID = ...\n",
    "VERSION_ID = ...\n",
    "# As we are executing in sepolia, we need to specify the chain\n",
    "CHAIN = \"ethereum:sepolia:geth\"\n",
    "# The address of the deployed contract\n",
    "MNIST_CONTRACT = \"0x17807a00bE76716B91d5ba1232dd1647c4414912\"\n"
   ]
  },
  {
   "cell_type": "markdown",
   "metadata": {},
   "source": [
    "Now we will start creating the functions that are necessary to create an Action that will:\n",
    "\n",
    "* Load and preprocess the MNIST image\n",
    "* Create an instance of an agent\n",
    "* Predict the MNIST image using the agent\n",
    "* Access the prediction result\n",
    "* Mint an NFT based on the prediction result\n",
    "\n",
    "To load and preprocess the image, we can use the function that we already created in the previous tutorial [Build a Verifiable Neural Network](https://docs.gizatech.xyz/tutorials/zkml/verifiable-mnist-neural-network)."
   ]
  },
  {
   "cell_type": "code",
   "execution_count": null,
   "metadata": {},
   "outputs": [],
   "source": [
    "# This function is for the previous MNIST tutorial\n",
    "def preprocess_image(image_path: str):\n",
    "    \"\"\"\n",
    "    Preprocess an image for the MNIST model.\n",
    "\n",
    "    Args:\n",
    "        image_path (str): Path to the image file.\n",
    "\n",
    "    Returns:\n",
    "        np.ndarray: Preprocessed image.\n",
    "    \"\"\"\n",
    "\n",
    "    # Load image, convert to grayscale, resize and normalize\n",
    "    image = Image.open(image_path).convert('L')\n",
    "    # Resize to match the input size of the model\n",
    "    image = image.resize((14, 14))\n",
    "    image = np.array(image).astype('float32') / 255\n",
    "    image = image.reshape(1, 196)  # Reshape to (1, 196) for model input\n",
    "    return image"
   ]
  },
  {
   "cell_type": "markdown",
   "metadata": {},
   "source": [
    "Now, we will create a function to create an instance of the agent. The agent is an extension of the `GizaModel` class, so we can execute `predict` as if we were using a model, but the agents needs more information:\n",
    "\n",
    "* chain: The chain where the contract and account are deployed\n",
    "* contracts: This is a dictionary in the form of `{\"contract_alias\": \"contract_address\"}` that contains the contract alias and address.\n",
    "\n",
    "This `contract_alias` is the alias that we will use when executing the contract through code.\n",
    "\n",
    "We create an instance so we can use it through the action."
   ]
  },
  {
   "cell_type": "code",
   "execution_count": null,
   "metadata": {},
   "outputs": [],
   "source": [
    "def create_agent(model_id: int, version_id: int, chain: str, contract: str):\n",
    "    \"\"\"\n",
    "    Create a Giza agent for the MNIST model with MNIST \n",
    "    \"\"\"\n",
    "    agent = GizaAgent(\n",
    "        contracts={\"mnist\": contract},\n",
    "        id=model_id,\n",
    "        version_id=version_id,\n",
    "        chain=chain,\n",
    "        account=\"sepolia\"\n",
    "    )\n",
    "    return agent"
   ]
  },
  {
   "cell_type": "markdown",
   "metadata": {},
   "source": [
    "This new `task` will execute the `predict` method of the agent following the same format as a `GizaModel` instance. But in this case, the agent will return an `AgentResult` object that contains the prediction result, request id and multiple utilities to handle the verification of the prediction."
   ]
  },
  {
   "cell_type": "code",
   "execution_count": null,
   "metadata": {},
   "outputs": [],
   "source": [
    "def predict(agent: GizaAgent, image: np.ndarray):\n",
    "    \"\"\"\n",
    "    Predict the digit in an image.\n",
    "\n",
    "    Args:\n",
    "        image (np.ndarray): Image to predict.\n",
    "\n",
    "    Returns:\n",
    "        int: Predicted digit.\n",
    "    \"\"\"\n",
    "    prediction = agent.predict(\n",
    "        input_feed={\"image\": image}, verifiable=True\n",
    "    )\n",
    "    return prediction"
   ]
  },
  {
   "cell_type": "markdown",
   "metadata": {},
   "source": [
    "Once we have the result, we need to access it. The `AgentResult` object contains the `value` attribute that contains the prediction result. In this case, the prediction result is a number from 0 to 9 that represents the digit that the model predicted.\n",
    "\n",
    "When we access the value, the execution will be blocked until the proof of the prediction has been created and verified. If the proof is not valid, the execution will raise an exception.\n",
    "\n",
    "This task is more for didactic purposes, to showcase in the workspaces the time that it takes to verify the proof. In a real scenario, you can use the `AgentResult` value directly in any other task."
   ]
  },
  {
   "cell_type": "code",
   "execution_count": null,
   "metadata": {},
   "outputs": [],
   "source": [
    "def get_digit(prediction: AgentResult):\n",
    "    \"\"\"\n",
    "    Get the digit from the prediction.\n",
    "\n",
    "    Args:\n",
    "        prediction (dict): Prediction from the model.\n",
    "\n",
    "    Returns:\n",
    "        int: Predicted digit.\n",
    "    \"\"\"\n",
    "    # This will block the executon until the prediction has generated the proof and the proof has been verified\n",
    "    return int(prediction.value[0].argmax())"
   ]
  },
  {
   "cell_type": "markdown",
   "metadata": {},
   "source": [
    "Finally, we will create a task to mint an NFT based on the predicted result. This task will use the result to mint an NFT with the image of the MNIST digit predicted.\n",
    "\n",
    "To execute the contract, we have the `GizaAgent.execute` context that will yield all the initialized contracts and the agent instance. This context will be used to execute the contract as it handles all the connections to the nodes, networks and contracts.\n",
    "\n",
    "In our instantiation of the agent, we added an `mnist` alias to access the contract to ease its use. For example:\n",
    "\n",
    "```python\n",
    "# A context is created that yields all the contracts used in the agent\n",
    "with agent.execute() as contracts:\n",
    "    # This is how we access the contract\n",
    "    contracs.mnist\n",
    "    # This is how we access the functions of the contract\n",
    "    contracts.mnsit.mint(...)\n",
    "```"
   ]
  },
  {
   "cell_type": "code",
   "execution_count": null,
   "metadata": {},
   "outputs": [],
   "source": [
    "def execute_contract(agent: GizaAgent, digit: int):\n",
    "    \"\"\"\n",
    "    Execute the MNIST contract with the predicted digit to mint a new NFT.\n",
    "\n",
    "    Args:\n",
    "        agent (GizaAgent): Giza agent.\n",
    "        digit (int): Predicted digit.\n",
    "\n",
    "    Returns:\n",
    "        str: Transaction hash.\n",
    "    \"\"\"\n",
    "    with agent.execute() as contracts:\n",
    "        contract_result = contracts.mnist.mint(digit)\n",
    "    return contract_result"
   ]
  },
  {
   "cell_type": "markdown",
   "metadata": {},
   "source": [
    "Now that we have all the steps defined, we can create the action to execute"
   ]
  },
  {
   "cell_type": "code",
   "execution_count": null,
   "metadata": {},
   "outputs": [],
   "source": [
    "def mint_nft_with_prediction():\n",
    "    # Preprocess the image\n",
    "    image = preprocess_image(\"seven.png\")\n",
    "    # Create the Giza agent\n",
    "    agent = create_agent(MODEL_ID, VERSION_ID, CHAIN, MNIST_CONTRACT)\n",
    "    # Predict the digit\n",
    "    prediction = predict(agent, image)\n",
    "    # Get the digit\n",
    "    digit = get_digit(prediction)\n",
    "    # Execute the contract\n",
    "    result = execute_contract(agent, digit)\n",
    "    pprint.pprint(result)\n"
   ]
  },
  {
   "cell_type": "markdown",
   "metadata": {},
   "source": [
    "Remember the passphrase that had to be safely kept? It is now time to use it. For the purpose of learning, we will use the passphrase in the code as an example, but in a real scenario, you should keep it safe and not hardcode it."
   ]
  },
  {
   "cell_type": "code",
   "execution_count": null,
   "metadata": {},
   "outputs": [],
   "source": [
    "# DO NOT COMMIT YOUR PASSPHRASE\n",
    "import os\n",
    "os.environ['MY_ACCOUNT1_PASSPHRASE'] = 'a'\n"
   ]
  },
  {
   "cell_type": "markdown",
   "metadata": {},
   "source": [
    "Now let's execute the action."
   ]
  },
  {
   "cell_type": "code",
   "execution_count": null,
   "metadata": {},
   "outputs": [],
   "source": [
    "mint_nft_with_prediction()"
   ]
  },
  {
   "cell_type": "markdown",
   "metadata": {},
   "source": [
    "## What we have learned\n",
    "\n",
    "In this tutorial, we learned how to create an AI Agent to mint an MNIST NFT. We created an AI Agent using Ape's framework and interacted with it to mint an NFT based on the predicted result of an MNIST image.\n",
    "\n",
    "We learned how to load and preprocess the MNIST image, create an instance of the agent, predict the MNIST image using the agent, access the predicted result, and mint an NFT based on the result."
   ]
  }
 ],
 "metadata": {
  "kernelspec": {
   "display_name": ".venv",
   "language": "python",
   "name": "python3"
  },
  "language_info": {
   "codemirror_mode": {
    "name": "ipython",
    "version": 3
   },
   "file_extension": ".py",
   "mimetype": "text/x-python",
   "name": "python",
   "nbconvert_exporter": "python",
   "pygments_lexer": "ipython3",
   "version": "3.11.8"
  }
 },
 "nbformat": 4,
 "nbformat_minor": 2
}
